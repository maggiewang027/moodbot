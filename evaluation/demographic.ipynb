{
 "cells": [
  {
   "cell_type": "code",
   "execution_count": 1,
   "id": "ec6e1e8a",
   "metadata": {},
   "outputs": [],
   "source": [
    "import pandas as pd\n",
    "import warnings\n",
    "warnings.filterwarnings('ignore')\n",
    "%matplotlib inline"
   ]
  },
  {
   "cell_type": "code",
   "execution_count": 2,
   "id": "5afa3792",
   "metadata": {},
   "outputs": [],
   "source": [
    "df = pd.read_csv('demographic.csv',names=['Age','Gender','Nationality','Knowledge of English','Frequency of Phone','Frequency of Computer']) # load the dataset into a dataFrame"
   ]
  },
  {
   "cell_type": "code",
   "execution_count": 3,
   "id": "470a7bcc",
   "metadata": {},
   "outputs": [
    {
     "data": {
      "text/html": [
       "<div>\n",
       "<style scoped>\n",
       "    .dataframe tbody tr th:only-of-type {\n",
       "        vertical-align: middle;\n",
       "    }\n",
       "\n",
       "    .dataframe tbody tr th {\n",
       "        vertical-align: top;\n",
       "    }\n",
       "\n",
       "    .dataframe thead th {\n",
       "        text-align: right;\n",
       "    }\n",
       "</style>\n",
       "<table border=\"1\" class=\"dataframe\">\n",
       "  <thead>\n",
       "    <tr style=\"text-align: right;\">\n",
       "      <th></th>\n",
       "      <th>Age</th>\n",
       "      <th>Gender</th>\n",
       "      <th>Nationality</th>\n",
       "      <th>Knowledge of English</th>\n",
       "      <th>Frequency of Phone</th>\n",
       "      <th>Frequency of Computer</th>\n",
       "    </tr>\n",
       "  </thead>\n",
       "  <tbody>\n",
       "    <tr>\n",
       "      <th>0</th>\n",
       "      <td>22</td>\n",
       "      <td>Female</td>\n",
       "      <td>Chinese</td>\n",
       "      <td>Intermediate</td>\n",
       "      <td>Everyday</td>\n",
       "      <td>Everyday</td>\n",
       "    </tr>\n",
       "    <tr>\n",
       "      <th>1</th>\n",
       "      <td>21</td>\n",
       "      <td>Female</td>\n",
       "      <td>Chinese</td>\n",
       "      <td>Proficient</td>\n",
       "      <td>Everyday</td>\n",
       "      <td>Everyday</td>\n",
       "    </tr>\n",
       "    <tr>\n",
       "      <th>2</th>\n",
       "      <td>22</td>\n",
       "      <td>Female</td>\n",
       "      <td>Chinese</td>\n",
       "      <td>Advanced</td>\n",
       "      <td>Everyday</td>\n",
       "      <td>5 days a week</td>\n",
       "    </tr>\n",
       "    <tr>\n",
       "      <th>3</th>\n",
       "      <td>21</td>\n",
       "      <td>Female</td>\n",
       "      <td>Chinese</td>\n",
       "      <td>Advanced</td>\n",
       "      <td>Everyday</td>\n",
       "      <td>Everyday</td>\n",
       "    </tr>\n",
       "    <tr>\n",
       "      <th>4</th>\n",
       "      <td>22</td>\n",
       "      <td>Female</td>\n",
       "      <td>Chinese</td>\n",
       "      <td>Beginner</td>\n",
       "      <td>Everyday</td>\n",
       "      <td>Everyday</td>\n",
       "    </tr>\n",
       "  </tbody>\n",
       "</table>\n",
       "</div>"
      ],
      "text/plain": [
       "   Age  Gender Nationality Knowledge of English Frequency of Phone  \\\n",
       "0   22  Female     Chinese         Intermediate           Everyday   \n",
       "1   21  Female     Chinese           Proficient           Everyday   \n",
       "2   22  Female     Chinese             Advanced           Everyday   \n",
       "3   21  Female     Chinese             Advanced           Everyday   \n",
       "4   22  Female     Chinese             Beginner           Everyday   \n",
       "\n",
       "  Frequency of Computer  \n",
       "0              Everyday  \n",
       "1              Everyday  \n",
       "2         5 days a week  \n",
       "3              Everyday  \n",
       "4              Everyday  "
      ]
     },
     "execution_count": 3,
     "metadata": {},
     "output_type": "execute_result"
    }
   ],
   "source": [
    "df.head() # return the first 5 rows"
   ]
  },
  {
   "cell_type": "code",
   "execution_count": 4,
   "id": "ad134d2b",
   "metadata": {},
   "outputs": [
    {
     "data": {
      "text/plain": [
       "(17, 6)"
      ]
     },
     "execution_count": 4,
     "metadata": {},
     "output_type": "execute_result"
    }
   ],
   "source": [
    "df.shape # return the shape of data"
   ]
  },
  {
   "cell_type": "code",
   "execution_count": 5,
   "id": "e56073b3",
   "metadata": {},
   "outputs": [
    {
     "data": {
      "text/html": [
       "<div>\n",
       "<style scoped>\n",
       "    .dataframe tbody tr th:only-of-type {\n",
       "        vertical-align: middle;\n",
       "    }\n",
       "\n",
       "    .dataframe tbody tr th {\n",
       "        vertical-align: top;\n",
       "    }\n",
       "\n",
       "    .dataframe thead th {\n",
       "        text-align: right;\n",
       "    }\n",
       "</style>\n",
       "<table border=\"1\" class=\"dataframe\">\n",
       "  <thead>\n",
       "    <tr style=\"text-align: right;\">\n",
       "      <th></th>\n",
       "      <th>Age</th>\n",
       "    </tr>\n",
       "  </thead>\n",
       "  <tbody>\n",
       "    <tr>\n",
       "      <th>count</th>\n",
       "      <td>17.000000</td>\n",
       "    </tr>\n",
       "    <tr>\n",
       "      <th>mean</th>\n",
       "      <td>22.764706</td>\n",
       "    </tr>\n",
       "    <tr>\n",
       "      <th>std</th>\n",
       "      <td>2.016476</td>\n",
       "    </tr>\n",
       "    <tr>\n",
       "      <th>min</th>\n",
       "      <td>21.000000</td>\n",
       "    </tr>\n",
       "    <tr>\n",
       "      <th>25%</th>\n",
       "      <td>21.000000</td>\n",
       "    </tr>\n",
       "    <tr>\n",
       "      <th>50%</th>\n",
       "      <td>22.000000</td>\n",
       "    </tr>\n",
       "    <tr>\n",
       "      <th>75%</th>\n",
       "      <td>24.000000</td>\n",
       "    </tr>\n",
       "    <tr>\n",
       "      <th>max</th>\n",
       "      <td>28.000000</td>\n",
       "    </tr>\n",
       "  </tbody>\n",
       "</table>\n",
       "</div>"
      ],
      "text/plain": [
       "             Age\n",
       "count  17.000000\n",
       "mean   22.764706\n",
       "std     2.016476\n",
       "min    21.000000\n",
       "25%    21.000000\n",
       "50%    22.000000\n",
       "75%    24.000000\n",
       "max    28.000000"
      ]
     },
     "execution_count": 5,
     "metadata": {},
     "output_type": "execute_result"
    }
   ],
   "source": [
    "df.describe() # return the description of the numerical values"
   ]
  },
  {
   "cell_type": "code",
   "execution_count": 6,
   "id": "0264a9c7",
   "metadata": {},
   "outputs": [
    {
     "name": "stdout",
     "output_type": "stream",
     "text": [
      "<class 'pandas.core.frame.DataFrame'>\n",
      "RangeIndex: 17 entries, 0 to 16\n",
      "Data columns (total 6 columns):\n",
      " #   Column                 Non-Null Count  Dtype \n",
      "---  ------                 --------------  ----- \n",
      " 0   Age                    17 non-null     int64 \n",
      " 1   Gender                 17 non-null     object\n",
      " 2   Nationality            17 non-null     object\n",
      " 3   Knowledge of English   17 non-null     object\n",
      " 4   Frequency of Phone     17 non-null     object\n",
      " 5   Frequency of Computer  17 non-null     object\n",
      "dtypes: int64(1), object(5)\n",
      "memory usage: 944.0+ bytes\n"
     ]
    }
   ],
   "source": [
    "df.info() # return the data types associated with each variable"
   ]
  },
  {
   "cell_type": "code",
   "execution_count": 7,
   "id": "c3569733",
   "metadata": {},
   "outputs": [
    {
     "data": {
      "text/plain": [
       "Age                      0\n",
       "Gender                   0\n",
       "Nationality              0\n",
       "Knowledge of English     0\n",
       "Frequency of Phone       0\n",
       "Frequency of Computer    0\n",
       "dtype: int64"
      ]
     },
     "execution_count": 7,
     "metadata": {},
     "output_type": "execute_result"
    }
   ],
   "source": [
    "df.isnull().sum() # check if there are missing values"
   ]
  },
  {
   "cell_type": "code",
   "execution_count": 8,
   "id": "a80ab229",
   "metadata": {},
   "outputs": [
    {
     "data": {
      "text/plain": [
       "Female    15\n",
       "Male       2\n",
       "Name: Gender, dtype: int64"
      ]
     },
     "execution_count": 8,
     "metadata": {},
     "output_type": "execute_result"
    }
   ],
   "source": [
    "df['Gender'].value_counts() # return a series containing counts of unique rows"
   ]
  },
  {
   "cell_type": "code",
   "execution_count": 9,
   "id": "6706170d",
   "metadata": {},
   "outputs": [
    {
     "data": {
      "text/plain": [
       "Chinese    16\n",
       "Latvian     1\n",
       "Name: Nationality, dtype: int64"
      ]
     },
     "execution_count": 9,
     "metadata": {},
     "output_type": "execute_result"
    }
   ],
   "source": [
    "df['Nationality'].value_counts() # return a series containing counts of unique rows"
   ]
  },
  {
   "cell_type": "code",
   "execution_count": 10,
   "id": "954868ba",
   "metadata": {},
   "outputs": [
    {
     "data": {
      "text/plain": [
       "Intermediate    7\n",
       "Advanced        6\n",
       "Proficient      3\n",
       "Beginner        1\n",
       "Name: Knowledge of English, dtype: int64"
      ]
     },
     "execution_count": 10,
     "metadata": {},
     "output_type": "execute_result"
    }
   ],
   "source": [
    "df['Knowledge of English'].value_counts() # return a series containing counts of unique rows"
   ]
  },
  {
   "cell_type": "code",
   "execution_count": 11,
   "id": "f4b3fc5f",
   "metadata": {},
   "outputs": [
    {
     "data": {
      "text/plain": [
       "Everyday    17\n",
       "Name: Frequency of Phone, dtype: int64"
      ]
     },
     "execution_count": 11,
     "metadata": {},
     "output_type": "execute_result"
    }
   ],
   "source": [
    "df['Frequency of Phone'].value_counts() # return a series containing counts of unique rows"
   ]
  },
  {
   "cell_type": "code",
   "execution_count": 12,
   "id": "3aaf9039",
   "metadata": {},
   "outputs": [
    {
     "data": {
      "text/plain": [
       "Everyday           12\n",
       "5 days a week       3\n",
       "2-3 days a week     2\n",
       "Name: Frequency of Computer, dtype: int64"
      ]
     },
     "execution_count": 12,
     "metadata": {},
     "output_type": "execute_result"
    }
   ],
   "source": [
    "df['Frequency of Computer'].value_counts() # return a series containing counts of unique rows"
   ]
  },
  {
   "cell_type": "code",
   "execution_count": null,
   "id": "c1737311",
   "metadata": {},
   "outputs": [],
   "source": []
  }
 ],
 "metadata": {
  "kernelspec": {
   "display_name": "Python 3 (ipykernel)",
   "language": "python",
   "name": "python3"
  },
  "language_info": {
   "codemirror_mode": {
    "name": "ipython",
    "version": 3
   },
   "file_extension": ".py",
   "mimetype": "text/x-python",
   "name": "python",
   "nbconvert_exporter": "python",
   "pygments_lexer": "ipython3",
   "version": "3.8.11"
  }
 },
 "nbformat": 4,
 "nbformat_minor": 5
}
