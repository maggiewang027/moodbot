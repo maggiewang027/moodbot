{
 "cells": [
  {
   "cell_type": "code",
   "execution_count": 29,
   "id": "fb97ce56",
   "metadata": {},
   "outputs": [],
   "source": [
    "import pandas as pd\n",
    "import seaborn as sns\n",
    "from matplotlib import pyplot as plt\n",
    "import warnings\n",
    "warnings.filterwarnings('ignore')\n",
    "%matplotlib inline"
   ]
  },
  {
   "cell_type": "code",
   "execution_count": 2,
   "id": "34eab073",
   "metadata": {},
   "outputs": [],
   "source": [
    "df = pd.read_csv('eval.csv',names=['PANAS 1','PANAS 2','Affect Balance','CUQ']) # load the dataset into a dataFrame"
   ]
  },
  {
   "cell_type": "code",
   "execution_count": 3,
   "id": "a1782f84",
   "metadata": {},
   "outputs": [],
   "source": [
    "#df = df.drop(['PANAS 1','PANAS 2'], axis = 1) "
   ]
  },
  {
   "cell_type": "code",
   "execution_count": 4,
   "id": "6529abc0",
   "metadata": {},
   "outputs": [
    {
     "data": {
      "text/html": [
       "<div>\n",
       "<style scoped>\n",
       "    .dataframe tbody tr th:only-of-type {\n",
       "        vertical-align: middle;\n",
       "    }\n",
       "\n",
       "    .dataframe tbody tr th {\n",
       "        vertical-align: top;\n",
       "    }\n",
       "\n",
       "    .dataframe thead th {\n",
       "        text-align: right;\n",
       "    }\n",
       "</style>\n",
       "<table border=\"1\" class=\"dataframe\">\n",
       "  <thead>\n",
       "    <tr style=\"text-align: right;\">\n",
       "      <th></th>\n",
       "      <th>PANAS 1</th>\n",
       "      <th>PANAS 2</th>\n",
       "      <th>Affect Balance</th>\n",
       "      <th>CUQ</th>\n",
       "    </tr>\n",
       "  </thead>\n",
       "  <tbody>\n",
       "    <tr>\n",
       "      <th>0</th>\n",
       "      <td>15</td>\n",
       "      <td>15</td>\n",
       "      <td>0</td>\n",
       "      <td>75.0</td>\n",
       "    </tr>\n",
       "    <tr>\n",
       "      <th>1</th>\n",
       "      <td>9</td>\n",
       "      <td>8</td>\n",
       "      <td>-1</td>\n",
       "      <td>57.8</td>\n",
       "    </tr>\n",
       "    <tr>\n",
       "      <th>2</th>\n",
       "      <td>14</td>\n",
       "      <td>16</td>\n",
       "      <td>2</td>\n",
       "      <td>73.4</td>\n",
       "    </tr>\n",
       "    <tr>\n",
       "      <th>3</th>\n",
       "      <td>16</td>\n",
       "      <td>20</td>\n",
       "      <td>4</td>\n",
       "      <td>65.6</td>\n",
       "    </tr>\n",
       "    <tr>\n",
       "      <th>4</th>\n",
       "      <td>6</td>\n",
       "      <td>11</td>\n",
       "      <td>5</td>\n",
       "      <td>85.9</td>\n",
       "    </tr>\n",
       "  </tbody>\n",
       "</table>\n",
       "</div>"
      ],
      "text/plain": [
       "   PANAS 1  PANAS 2  Affect Balance   CUQ\n",
       "0       15       15               0  75.0\n",
       "1        9        8              -1  57.8\n",
       "2       14       16               2  73.4\n",
       "3       16       20               4  65.6\n",
       "4        6       11               5  85.9"
      ]
     },
     "execution_count": 4,
     "metadata": {},
     "output_type": "execute_result"
    }
   ],
   "source": [
    "df.head() # return the first 5 rows"
   ]
  },
  {
   "cell_type": "code",
   "execution_count": 5,
   "id": "b1adb28c",
   "metadata": {},
   "outputs": [
    {
     "data": {
      "text/plain": [
       "(17, 4)"
      ]
     },
     "execution_count": 5,
     "metadata": {},
     "output_type": "execute_result"
    }
   ],
   "source": [
    "df.shape # return the shape of data"
   ]
  },
  {
   "cell_type": "code",
   "execution_count": 6,
   "id": "bb1c5607",
   "metadata": {},
   "outputs": [
    {
     "data": {
      "text/html": [
       "<div>\n",
       "<style scoped>\n",
       "    .dataframe tbody tr th:only-of-type {\n",
       "        vertical-align: middle;\n",
       "    }\n",
       "\n",
       "    .dataframe tbody tr th {\n",
       "        vertical-align: top;\n",
       "    }\n",
       "\n",
       "    .dataframe thead th {\n",
       "        text-align: right;\n",
       "    }\n",
       "</style>\n",
       "<table border=\"1\" class=\"dataframe\">\n",
       "  <thead>\n",
       "    <tr style=\"text-align: right;\">\n",
       "      <th></th>\n",
       "      <th>PANAS 1</th>\n",
       "      <th>PANAS 2</th>\n",
       "      <th>Affect Balance</th>\n",
       "      <th>CUQ</th>\n",
       "    </tr>\n",
       "  </thead>\n",
       "  <tbody>\n",
       "    <tr>\n",
       "      <th>count</th>\n",
       "      <td>17.000000</td>\n",
       "      <td>17.000000</td>\n",
       "      <td>17.000000</td>\n",
       "      <td>17.000000</td>\n",
       "    </tr>\n",
       "    <tr>\n",
       "      <th>mean</th>\n",
       "      <td>9.705882</td>\n",
       "      <td>12.764706</td>\n",
       "      <td>3.058824</td>\n",
       "      <td>67.100000</td>\n",
       "    </tr>\n",
       "    <tr>\n",
       "      <th>std</th>\n",
       "      <td>5.405607</td>\n",
       "      <td>4.956428</td>\n",
       "      <td>4.980846</td>\n",
       "      <td>15.362129</td>\n",
       "    </tr>\n",
       "    <tr>\n",
       "      <th>min</th>\n",
       "      <td>0.000000</td>\n",
       "      <td>6.000000</td>\n",
       "      <td>-6.000000</td>\n",
       "      <td>26.600000</td>\n",
       "    </tr>\n",
       "    <tr>\n",
       "      <th>25%</th>\n",
       "      <td>6.000000</td>\n",
       "      <td>8.000000</td>\n",
       "      <td>0.000000</td>\n",
       "      <td>62.500000</td>\n",
       "    </tr>\n",
       "    <tr>\n",
       "      <th>50%</th>\n",
       "      <td>8.000000</td>\n",
       "      <td>13.000000</td>\n",
       "      <td>3.000000</td>\n",
       "      <td>68.800000</td>\n",
       "    </tr>\n",
       "    <tr>\n",
       "      <th>75%</th>\n",
       "      <td>14.000000</td>\n",
       "      <td>16.000000</td>\n",
       "      <td>6.000000</td>\n",
       "      <td>78.100000</td>\n",
       "    </tr>\n",
       "    <tr>\n",
       "      <th>max</th>\n",
       "      <td>20.000000</td>\n",
       "      <td>20.000000</td>\n",
       "      <td>15.000000</td>\n",
       "      <td>85.900000</td>\n",
       "    </tr>\n",
       "  </tbody>\n",
       "</table>\n",
       "</div>"
      ],
      "text/plain": [
       "         PANAS 1    PANAS 2  Affect Balance        CUQ\n",
       "count  17.000000  17.000000       17.000000  17.000000\n",
       "mean    9.705882  12.764706        3.058824  67.100000\n",
       "std     5.405607   4.956428        4.980846  15.362129\n",
       "min     0.000000   6.000000       -6.000000  26.600000\n",
       "25%     6.000000   8.000000        0.000000  62.500000\n",
       "50%     8.000000  13.000000        3.000000  68.800000\n",
       "75%    14.000000  16.000000        6.000000  78.100000\n",
       "max    20.000000  20.000000       15.000000  85.900000"
      ]
     },
     "execution_count": 6,
     "metadata": {},
     "output_type": "execute_result"
    }
   ],
   "source": [
    "df.describe() # return the description of the numerical values"
   ]
  },
  {
   "cell_type": "code",
   "execution_count": 7,
   "id": "2001cbc2",
   "metadata": {},
   "outputs": [
    {
     "name": "stdout",
     "output_type": "stream",
     "text": [
      "<class 'pandas.core.frame.DataFrame'>\n",
      "RangeIndex: 17 entries, 0 to 16\n",
      "Data columns (total 4 columns):\n",
      " #   Column          Non-Null Count  Dtype  \n",
      "---  ------          --------------  -----  \n",
      " 0   PANAS 1         17 non-null     int64  \n",
      " 1   PANAS 2         17 non-null     int64  \n",
      " 2   Affect Balance  17 non-null     int64  \n",
      " 3   CUQ             17 non-null     float64\n",
      "dtypes: float64(1), int64(3)\n",
      "memory usage: 672.0 bytes\n"
     ]
    }
   ],
   "source": [
    "df.info() # return the data types associated with each variable"
   ]
  },
  {
   "cell_type": "code",
   "execution_count": 8,
   "id": "ce5d470a",
   "metadata": {},
   "outputs": [
    {
     "data": {
      "text/plain": [
       "PANAS 1           0\n",
       "PANAS 2           0\n",
       "Affect Balance    0\n",
       "CUQ               0\n",
       "dtype: int64"
      ]
     },
     "execution_count": 8,
     "metadata": {},
     "output_type": "execute_result"
    }
   ],
   "source": [
    "df.isnull().sum() # check if there are missing values"
   ]
  },
  {
   "cell_type": "code",
   "execution_count": 9,
   "id": "4bbe0343",
   "metadata": {},
   "outputs": [],
   "source": [
    "def mood_result(x):\n",
    "    if x < 0:\n",
    "        return 'Decreased'\n",
    "    elif x == 0:\n",
    "        return 'No Change'\n",
    "    else:\n",
    "        return 'Increased'"
   ]
  },
  {
   "cell_type": "code",
   "execution_count": 10,
   "id": "8120c36f",
   "metadata": {},
   "outputs": [],
   "source": [
    "df['Mood Result'] = df['Affect Balance'].apply(mood_result)"
   ]
  },
  {
   "cell_type": "code",
   "execution_count": 11,
   "id": "e0382ae1",
   "metadata": {},
   "outputs": [],
   "source": [
    "df = df.drop(['PANAS 1','PANAS 2'], axis = 1)"
   ]
  },
  {
   "cell_type": "code",
   "execution_count": 12,
   "id": "2ea56a58",
   "metadata": {},
   "outputs": [
    {
     "data": {
      "text/html": [
       "<div>\n",
       "<style scoped>\n",
       "    .dataframe tbody tr th:only-of-type {\n",
       "        vertical-align: middle;\n",
       "    }\n",
       "\n",
       "    .dataframe tbody tr th {\n",
       "        vertical-align: top;\n",
       "    }\n",
       "\n",
       "    .dataframe thead th {\n",
       "        text-align: right;\n",
       "    }\n",
       "</style>\n",
       "<table border=\"1\" class=\"dataframe\">\n",
       "  <thead>\n",
       "    <tr style=\"text-align: right;\">\n",
       "      <th></th>\n",
       "      <th>Affect Balance</th>\n",
       "      <th>CUQ</th>\n",
       "      <th>Mood Result</th>\n",
       "    </tr>\n",
       "  </thead>\n",
       "  <tbody>\n",
       "    <tr>\n",
       "      <th>0</th>\n",
       "      <td>0</td>\n",
       "      <td>75.0</td>\n",
       "      <td>No Change</td>\n",
       "    </tr>\n",
       "    <tr>\n",
       "      <th>1</th>\n",
       "      <td>-1</td>\n",
       "      <td>57.8</td>\n",
       "      <td>Decreased</td>\n",
       "    </tr>\n",
       "    <tr>\n",
       "      <th>2</th>\n",
       "      <td>2</td>\n",
       "      <td>73.4</td>\n",
       "      <td>Increased</td>\n",
       "    </tr>\n",
       "    <tr>\n",
       "      <th>3</th>\n",
       "      <td>4</td>\n",
       "      <td>65.6</td>\n",
       "      <td>Increased</td>\n",
       "    </tr>\n",
       "    <tr>\n",
       "      <th>4</th>\n",
       "      <td>5</td>\n",
       "      <td>85.9</td>\n",
       "      <td>Increased</td>\n",
       "    </tr>\n",
       "  </tbody>\n",
       "</table>\n",
       "</div>"
      ],
      "text/plain": [
       "   Affect Balance   CUQ Mood Result\n",
       "0               0  75.0   No Change\n",
       "1              -1  57.8   Decreased\n",
       "2               2  73.4   Increased\n",
       "3               4  65.6   Increased\n",
       "4               5  85.9   Increased"
      ]
     },
     "execution_count": 12,
     "metadata": {},
     "output_type": "execute_result"
    }
   ],
   "source": [
    "df.head()"
   ]
  },
  {
   "cell_type": "code",
   "execution_count": 13,
   "id": "cb749170",
   "metadata": {},
   "outputs": [
    {
     "data": {
      "text/plain": [
       "Increased    12\n",
       "Decreased     3\n",
       "No Change     2\n",
       "Name: Mood Result, dtype: int64"
      ]
     },
     "execution_count": 13,
     "metadata": {},
     "output_type": "execute_result"
    }
   ],
   "source": [
    "df['Mood Result'].value_counts() # return a series containing counts of unique rows"
   ]
  },
  {
   "cell_type": "code",
   "execution_count": 26,
   "id": "06c8c53a",
   "metadata": {},
   "outputs": [
    {
     "data": {
      "text/plain": [
       "<AxesSubplot:xlabel='Mood Result', ylabel='count'>"
      ]
     },
     "execution_count": 26,
     "metadata": {},
     "output_type": "execute_result"
    },
    {
     "data": {
      "image/png": "[encoded data removed]",
      "text/plain": [
       "<Figure size 432x288 with 1 Axes>"
      ]
     },
     "metadata": {
      "needs_background": "light"
     },
     "output_type": "display_data"
    }
   ],
   "source": [
    "sns.countplot(df['Mood Result']) # plot the distribution of ocean_proximity"
   ]
  },
  {
   "cell_type": "code",
   "execution_count": 24,
   "id": "51ae7952",
   "metadata": {},
   "outputs": [
    {
     "data": {
      "image/png": "[encoded data removed]",
      "text/plain": [
       "<Figure size 432x288 with 1 Axes>"
      ]
     },
     "metadata": {},
     "output_type": "display_data"
    }
   ],
   "source": [
    "# plot a pie chart\n",
    "data = [12,3,2]\n",
    "label = ['Increased','Decreased','No Change']\n",
    "plt.pie(data, labels=label, autopct='%1.1f%%', shadow=True, startangle=90)\n",
    "plt.title('Mood Result')\n",
    "plt.show()"
   ]
  },
  {
   "cell_type": "code",
   "execution_count": 16,
   "id": "1f20c985",
   "metadata": {},
   "outputs": [
    {
     "data": {
      "image/png": "[encoded data removed]",
      "text/plain": [
       "<Figure size 576x432 with 1 Axes>"
      ]
     },
     "metadata": {
      "needs_background": "light"
     },
     "output_type": "display_data"
    }
   ],
   "source": [
    "plt.figure(figsize=(8,6))\n",
    "fig = sns.countplot(data=df,x='CUQ')\n",
    "fig.set_xticklabels(fig.get_xticklabels(), rotation=45)\n",
    "plt.show()"
   ]
  },
  {
   "cell_type": "code",
   "execution_count": 27,
   "id": "09f208e3",
   "metadata": {},
   "outputs": [
    {
     "data": {
      "text/plain": [
       "[Text(0, 0, '(19.999, 40.0]'),\n",
       " Text(1, 0, '(40.0, 60.0]'),\n",
       " Text(2, 0, '(60.0, 80.0]'),\n",
       " Text(3, 0, '(80.0, 100.0]')]"
      ]
     },
     "execution_count": 27,
     "metadata": {},
     "output_type": "execute_result"
    },
    {
     "data": {
      "image/png": "[encoded data removed]",
      "text/plain": [
       "<Figure size 504x360 with 1 Axes>"
      ]
     },
     "metadata": {
      "needs_background": "light"
     },
     "output_type": "display_data"
    }
   ],
   "source": [
    "out = pd.cut(df['CUQ'], bins =[20,40,60,80,100], include_lowest = True)\n",
    "plt.figure(figsize=(7,5))\n",
    "fig = sns.countplot(out,palette='Set3')\n",
    "fig.set_xticklabels(fig.get_xticklabels(), rotation=45)"
   ]
  },
  {
   "cell_type": "code",
   "execution_count": 18,
   "id": "ad990c26",
   "metadata": {},
   "outputs": [],
   "source": [
    "corr = df.corr() # Pearson correlation coefficient"
   ]
  },
  {
   "cell_type": "code",
   "execution_count": 19,
   "id": "0fb9fb86",
   "metadata": {},
   "outputs": [
    {
     "data": {
      "text/plain": [
       "<AxesSubplot:>"
      ]
     },
     "execution_count": 19,
     "metadata": {},
     "output_type": "execute_result"
    },
    {
     "data": {
      "image/png": "[encoded data removed]",
      "text/plain": [
       "<Figure size 432x360 with 2 Axes>"
      ]
     },
     "metadata": {
      "needs_background": "light"
     },
     "output_type": "display_data"
    }
   ],
   "source": [
    "plt.figure(figsize=(6,5))\n",
    "sns.heatmap(corr,annot=True,cmap='BuPu',lw=0,linecolor='white',fmt='0.2f')"
   ]
  },
  {
   "cell_type": "code",
   "execution_count": 20,
   "id": "d3277e2e",
   "metadata": {},
   "outputs": [],
   "source": [
    "corr2 = df.corr(method='spearman') # Spearman rank correlation coefficient"
   ]
  },
  {
   "cell_type": "code",
   "execution_count": 28,
   "id": "367f1c6a",
   "metadata": {},
   "outputs": [
    {
     "data": {
      "text/html": [
       "<div>\n",
       "<style scoped>\n",
       "    .dataframe tbody tr th:only-of-type {\n",
       "        vertical-align: middle;\n",
       "    }\n",
       "\n",
       "    .dataframe tbody tr th {\n",
       "        vertical-align: top;\n",
       "    }\n",
       "\n",
       "    .dataframe thead th {\n",
       "        text-align: right;\n",
       "    }\n",
       "</style>\n",
       "<table border=\"1\" class=\"dataframe\">\n",
       "  <thead>\n",
       "    <tr style=\"text-align: right;\">\n",
       "      <th></th>\n",
       "      <th>Affect Balance</th>\n",
       "      <th>CUQ</th>\n",
       "    </tr>\n",
       "  </thead>\n",
       "  <tbody>\n",
       "    <tr>\n",
       "      <th>Affect Balance</th>\n",
       "      <td>1.000000</td>\n",
       "      <td>0.399509</td>\n",
       "    </tr>\n",
       "    <tr>\n",
       "      <th>CUQ</th>\n",
       "      <td>0.399509</td>\n",
       "      <td>1.000000</td>\n",
       "    </tr>\n",
       "  </tbody>\n",
       "</table>\n",
       "</div>"
      ],
      "text/plain": [
       "                Affect Balance       CUQ\n",
       "Affect Balance        1.000000  0.399509\n",
       "CUQ                   0.399509  1.000000"
      ]
     },
     "execution_count": 28,
     "metadata": {},
     "output_type": "execute_result"
    }
   ],
   "source": [
    "corr2"
   ]
  },
  {
   "cell_type": "code",
   "execution_count": 21,
   "id": "6e5b5a96",
   "metadata": {},
   "outputs": [
    {
     "data": {
      "text/plain": [
       "<AxesSubplot:>"
      ]
     },
     "execution_count": 21,
     "metadata": {},
     "output_type": "execute_result"
    },
    {
     "data": {
      "image/png": "[encoded data removed]",
      "text/plain": [
       "<Figure size 432x360 with 2 Axes>"
      ]
     },
     "metadata": {
      "needs_background": "light"
     },
     "output_type": "display_data"
    }
   ],
   "source": [
    "plt.figure(figsize=(6,5))\n",
    "sns.heatmap(corr2,annot=True,cmap='BuPu',lw=0,linecolor='white',fmt='0.2f')"
   ]
  },
  {
   "cell_type": "code",
   "execution_count": null,
   "id": "6171639f",
   "metadata": {},
   "outputs": [],
   "source": []
  }
 ],
 "metadata": {
  "kernelspec": {
   "display_name": "Python 3 (ipykernel)",
   "language": "python",
   "name": "python3"
  },
  "language_info": {
   "codemirror_mode": {
    "name": "ipython",
    "version": 3
   },
   "file_extension": ".py",
   "mimetype": "text/x-python",
   "name": "python",
   "nbconvert_exporter": "python",
   "pygments_lexer": "ipython3",
   "version": "3.8.11"
  }
 },
 "nbformat": 4,
 "nbformat_minor": 5
}
