{
 "cells": [
  {
   "cell_type": "code",
   "execution_count": 1,
   "id": "4328479f",
   "metadata": {},
   "outputs": [],
   "source": [
    "import numpy as np\n",
    "import random\n",
    "import pickle\n",
    "import json\n",
    "from tensorflow.keras.models import load_model\n",
    "from tensorflow.keras.preprocessing.sequence import pad_sequences\n",
    "import re \n",
    "import nltk\n",
    "#nltk.download('stopwords')\n",
    "#nltk.download('wordnet')\n",
    "from nltk.corpus import stopwords\n",
    "stop_words = stopwords.words('english')\n",
    "from nltk.stem import WordNetLemmatizer\n",
    "\n",
    "import warnings\n",
    "warnings.filterwarnings('ignore')"
   ]
  },
  {
   "cell_type": "code",
   "execution_count": 4,
   "id": "2e2cc8fb",
   "metadata": {},
   "outputs": [],
   "source": [
    "lb = pickle.load(open('assets/label_encoder.pickle', 'rb'))\n",
    "tokenizer = pickle.load(open('assets/tokenizer.pickle', 'rb'))\n",
    "model = load_model('models/model.h5')\n",
    "emo_res = json.loads(open('data/emo_res.json').read())"
   ]
  },
  {
   "cell_type": "code",
   "execution_count": 5,
   "id": "80e19276",
   "metadata": {},
   "outputs": [],
   "source": [
    "lb_chat = pickle.load(open('assets/label_encoder_chat.pickle', 'rb'))\n",
    "token_chat = pickle.load(open('assets/tokenizer_chat.pickle', 'rb'))\n",
    "model_chat = load_model('models/model_chat.h5')\n",
    "int_data = json.loads(open('data/intents.json').read())"
   ]
  },
  {
   "cell_type": "code",
   "execution_count": 6,
   "id": "cfee2cd4",
   "metadata": {},
   "outputs": [],
   "source": [
    "def int_clean(sent):\n",
    "    lemmatizer = WordNetLemmatizer()\n",
    "    corpus = []\n",
    "    text = re.sub('[^a-zA-Z]', ' ', sent)  # punctuation removal\n",
    "    text = text.lower()  # convert to lowercase\n",
    "    words = text.split()\n",
    "    words = [lemmatizer.lemmatize(w) for w in words] # lemmatizing\n",
    "    text = \" \".join(words)\n",
    "    corpus.append(text)\n",
    "    seq = token_chat.texts_to_sequences(corpus)\n",
    "    seq_pad = pad_sequences(seq,maxlen=8)\n",
    "    return seq_pad"
   ]
  },
  {
   "cell_type": "code",
   "execution_count": 7,
   "id": "0741da9b",
   "metadata": {},
   "outputs": [],
   "source": [
    "def clean(sent):\n",
    "    lemmatizer = WordNetLemmatizer()\n",
    "    corpus = []\n",
    "    text = re.sub('[^a-zA-Z]', ' ', sent) # punctuation removal\n",
    "    text = text.lower() # convert to lowercase\n",
    "    words = text.split()\n",
    "    words = [w for w in words if not w in stop_words] # removing stopwords\n",
    "    # lemmatizing\n",
    "    words = [lemmatizer.lemmatize(w) for w in words]\n",
    "    text = \" \".join(words)\n",
    "    corpus.append(text)\n",
    "    seq = tokenizer.texts_to_sequences(corpus)\n",
    "    seq_pad = pad_sequences(seq,maxlen=35)\n",
    "    return seq_pad"
   ]
  },
  {
   "cell_type": "code",
   "execution_count": 8,
   "id": "c326ab72",
   "metadata": {},
   "outputs": [],
   "source": [
    "def predict_int(sent):\n",
    "    sent = int_clean(sent)\n",
    "    result = lb_chat.inverse_transform(np.argmax(model_chat.predict(sent),axis=1))[0]\n",
    "    prob =  np.max(model_chat.predict(sent))\n",
    "    #print(f\"{result}: {prob}\\n\\n\")\n",
    "    return result, prob"
   ]
  },
  {
   "cell_type": "code",
   "execution_count": 9,
   "id": "3cb0d9c7",
   "metadata": {},
   "outputs": [],
   "source": [
    "def predict(sent):\n",
    "    sent = clean(sent)\n",
    "    result = lb.inverse_transform(np.argmax(model.predict(sent),axis=1))[0]\n",
    "    prob =  np.max(model.predict(sent))\n",
    "    #print(f\"{result}: {prob}\\n\\n\")\n",
    "    return result, prob"
   ]
  },
  {
   "cell_type": "code",
   "execution_count": 10,
   "id": "6e468ed9",
   "metadata": {},
   "outputs": [
    {
     "name": "stdout",
     "output_type": "stream",
     "text": [
      "Enter a sentence: bye\n"
     ]
    },
    {
     "name": "stderr",
     "output_type": "stream",
     "text": [
      "2022-08-06 18:42:27.897990: I tensorflow/compiler/mlir/mlir_graph_optimization_pass.cc:185] None of the MLIR Optimization Passes are enabled (registered 2)\n"
     ]
    },
    {
     "data": {
      "text/plain": [
       "('goodbye', 0.73079365)"
      ]
     },
     "execution_count": 10,
     "metadata": {},
     "output_type": "execute_result"
    }
   ],
   "source": [
    "predict_int(str(input('Enter a sentence: ')))"
   ]
  },
  {
   "cell_type": "code",
   "execution_count": 11,
   "id": "63e624da",
   "metadata": {},
   "outputs": [
    {
     "name": "stdout",
     "output_type": "stream",
     "text": [
      "Enter a sentence: bye\n"
     ]
    },
    {
     "data": {
      "text/plain": [
       "('sadness', 0.666806)"
      ]
     },
     "execution_count": 11,
     "metadata": {},
     "output_type": "execute_result"
    }
   ],
   "source": [
    "predict(str(input('Enter a sentence: ')))"
   ]
  },
  {
   "cell_type": "code",
   "execution_count": 12,
   "id": "b4510abf",
   "metadata": {},
   "outputs": [],
   "source": [
    "def response(sent):\n",
    "    result,prob = predict_int(sent)\n",
    "    result2,prob2 = predict(sent)\n",
    "    list_of_ints = int_data['intents']\n",
    "    if prob > 0.75:\n",
    "        for i in list_of_ints:\n",
    "            if i['tag'] == result:\n",
    "                response_result = random.choice(i['responses'])\n",
    "                return response_result\n",
    "    if prob <= 0.75:\n",
    "        if prob2 > 0.75:\n",
    "            for i in emo_res:\n",
    "                if i['emotion'] == result2:\n",
    "                    response_result = random.choice(i['responses'])\n",
    "                    return response_result\n",
    "        else:\n",
    "            response_result = \"Sorry, I don't understand, please ask me something else. You can still choose to listen to these songs.\"\n",
    "            return response_result"
   ]
  },
  {
   "cell_type": "code",
   "execution_count": 15,
   "id": "ecc0a081",
   "metadata": {},
   "outputs": [
    {
     "data": {
      "text/plain": [
       "'Hi! How can I help?'"
      ]
     },
     "execution_count": 15,
     "metadata": {},
     "output_type": "execute_result"
    }
   ],
   "source": [
    "response('hello')"
   ]
  },
  {
   "cell_type": "code",
   "execution_count": 16,
   "id": "bacd8c59",
   "metadata": {},
   "outputs": [],
   "source": [
    "import requests"
   ]
  },
  {
   "cell_type": "code",
   "execution_count": 17,
   "id": "2952d799",
   "metadata": {},
   "outputs": [],
   "source": [
    "api_key = 'ba7998f08e0326c7b05b501610f442e1'\n",
    "user = 'maggiewang027'\n",
    "def lastfm_get(payload):\n",
    "    # define headers and url from the api\n",
    "    headers = {'user-agent': user}\n",
    "    url = 'https://ws.audioscrobbler.com/2.0/'\n",
    "    # add initial setup\n",
    "    payload['api_key'] = api_key\n",
    "    payload['format'] = 'json'\n",
    "    payload['limit'] = 5\n",
    "    # get the api request\n",
    "    response = requests.get(url, headers=headers, params=payload)\n",
    "    return response"
   ]
  },
  {
   "cell_type": "code",
   "execution_count": 18,
   "id": "232c1daf",
   "metadata": {},
   "outputs": [
    {
     "data": {
      "text/plain": [
       "{'tracks': {'track': [{'name': 'Body Say',\n",
       "    'duration': '0',\n",
       "    'mbid': '',\n",
       "    'url': 'https://www.last.fm/music/Demi+Lovato/_/Body+Say',\n",
       "    'streamable': {'#text': '0', 'fulltrack': '0'},\n",
       "    'artist': {'name': 'Demi Lovato',\n",
       "     'mbid': 'faf4cefb-036c-4c88-b93a-5b03dd0a0e6b',\n",
       "     'url': 'https://www.last.fm/music/Demi+Lovato'},\n",
       "    'image': [{'#text': 'https://lastfm.freetls.fastly.net/i/u/34s/2a96cbd8b46e442fc41c2b86b821562f.png',\n",
       "      'size': 'small'},\n",
       "     {'#text': 'https://lastfm.freetls.fastly.net/i/u/64s/2a96cbd8b46e442fc41c2b86b821562f.png',\n",
       "      'size': 'medium'},\n",
       "     {'#text': 'https://lastfm.freetls.fastly.net/i/u/174s/2a96cbd8b46e442fc41c2b86b821562f.png',\n",
       "      'size': 'large'},\n",
       "     {'#text': 'https://lastfm.freetls.fastly.net/i/u/300x300/2a96cbd8b46e442fc41c2b86b821562f.png',\n",
       "      'size': 'extralarge'}],\n",
       "    '@attr': {'rank': '1'}},\n",
       "   {'name': 'With Strangers',\n",
       "    'duration': '171',\n",
       "    'mbid': 'f19dd485-2a5d-45d5-9613-7318f1edf12d',\n",
       "    'url': 'https://www.last.fm/music/Little+Joy/_/With+Strangers',\n",
       "    'streamable': {'#text': '0', 'fulltrack': '0'},\n",
       "    'artist': {'name': 'Little Joy',\n",
       "     'mbid': '68a0067a-7a3a-43d3-bd91-391ea7600d8c',\n",
       "     'url': 'https://www.last.fm/music/Little+Joy'},\n",
       "    'image': [{'#text': 'https://lastfm.freetls.fastly.net/i/u/34s/2a96cbd8b46e442fc41c2b86b821562f.png',\n",
       "      'size': 'small'},\n",
       "     {'#text': 'https://lastfm.freetls.fastly.net/i/u/64s/2a96cbd8b46e442fc41c2b86b821562f.png',\n",
       "      'size': 'medium'},\n",
       "     {'#text': 'https://lastfm.freetls.fastly.net/i/u/174s/2a96cbd8b46e442fc41c2b86b821562f.png',\n",
       "      'size': 'large'},\n",
       "     {'#text': 'https://lastfm.freetls.fastly.net/i/u/300x300/2a96cbd8b46e442fc41c2b86b821562f.png',\n",
       "      'size': 'extralarge'}],\n",
       "    '@attr': {'rank': '2'}},\n",
       "   {'name': 'To Be Surprised',\n",
       "    'duration': '261',\n",
       "    'mbid': '4395f31d-3553-470b-b7c2-6cdba90184ca',\n",
       "    'url': 'https://www.last.fm/music/Sondre+Lerche/_/To+Be+Surprised',\n",
       "    'streamable': {'#text': '0', 'fulltrack': '0'},\n",
       "    'artist': {'name': 'Sondre Lerche',\n",
       "     'mbid': 'a1c29c2f-778f-4b02-9ac7-80f0c37cdea9',\n",
       "     'url': 'https://www.last.fm/music/Sondre+Lerche'},\n",
       "    'image': [{'#text': 'https://lastfm.freetls.fastly.net/i/u/34s/2a96cbd8b46e442fc41c2b86b821562f.png',\n",
       "      'size': 'small'},\n",
       "     {'#text': 'https://lastfm.freetls.fastly.net/i/u/64s/2a96cbd8b46e442fc41c2b86b821562f.png',\n",
       "      'size': 'medium'},\n",
       "     {'#text': 'https://lastfm.freetls.fastly.net/i/u/174s/2a96cbd8b46e442fc41c2b86b821562f.png',\n",
       "      'size': 'large'},\n",
       "     {'#text': 'https://lastfm.freetls.fastly.net/i/u/300x300/2a96cbd8b46e442fc41c2b86b821562f.png',\n",
       "      'size': 'extralarge'}],\n",
       "    '@attr': {'rank': '3'}},\n",
       "   {'name': 'Filial',\n",
       "    'duration': '314',\n",
       "    'mbid': '4da82816-566e-44db-841a-7b757a6e2ae2',\n",
       "    'url': 'https://www.last.fm/music/Pianos+Become+the+Teeth/_/Filial',\n",
       "    'streamable': {'#text': '0', 'fulltrack': '0'},\n",
       "    'artist': {'name': 'Pianos Become the Teeth',\n",
       "     'mbid': '7436d471-fdce-42e8-a3cf-c0dc542c8524',\n",
       "     'url': 'https://www.last.fm/music/Pianos+Become+the+Teeth'},\n",
       "    'image': [{'#text': 'https://lastfm.freetls.fastly.net/i/u/34s/2a96cbd8b46e442fc41c2b86b821562f.png',\n",
       "      'size': 'small'},\n",
       "     {'#text': 'https://lastfm.freetls.fastly.net/i/u/64s/2a96cbd8b46e442fc41c2b86b821562f.png',\n",
       "      'size': 'medium'},\n",
       "     {'#text': 'https://lastfm.freetls.fastly.net/i/u/174s/2a96cbd8b46e442fc41c2b86b821562f.png',\n",
       "      'size': 'large'},\n",
       "     {'#text': 'https://lastfm.freetls.fastly.net/i/u/300x300/2a96cbd8b46e442fc41c2b86b821562f.png',\n",
       "      'size': 'extralarge'}],\n",
       "    '@attr': {'rank': '4'}},\n",
       "   {'name': \"Ain't That Just the Way\",\n",
       "    'duration': '202',\n",
       "    'mbid': '',\n",
       "    'url': 'https://www.last.fm/music/Lutricia+McNeal/_/Ain%27t+That+Just+the+Way',\n",
       "    'streamable': {'#text': '0', 'fulltrack': '0'},\n",
       "    'artist': {'name': 'Lutricia McNeal',\n",
       "     'mbid': '0092dc2a-38ca-4b01-94dd-5334bba14059',\n",
       "     'url': 'https://www.last.fm/music/Lutricia+McNeal'},\n",
       "    'image': [{'#text': 'https://lastfm.freetls.fastly.net/i/u/34s/2a96cbd8b46e442fc41c2b86b821562f.png',\n",
       "      'size': 'small'},\n",
       "     {'#text': 'https://lastfm.freetls.fastly.net/i/u/64s/2a96cbd8b46e442fc41c2b86b821562f.png',\n",
       "      'size': 'medium'},\n",
       "     {'#text': 'https://lastfm.freetls.fastly.net/i/u/174s/2a96cbd8b46e442fc41c2b86b821562f.png',\n",
       "      'size': 'large'},\n",
       "     {'#text': 'https://lastfm.freetls.fastly.net/i/u/300x300/2a96cbd8b46e442fc41c2b86b821562f.png',\n",
       "      'size': 'extralarge'}],\n",
       "    '@attr': {'rank': '5'}}],\n",
       "  '@attr': {'tag': 'surprise',\n",
       "   'page': '1',\n",
       "   'perPage': '5',\n",
       "   'totalPages': '12',\n",
       "   'total': '60'}}}"
      ]
     },
     "execution_count": 18,
     "metadata": {},
     "output_type": "execute_result"
    }
   ],
   "source": [
    "lastfm_get({'method': 'tag.getTopTracks','tag':'surprise'}).json()"
   ]
  },
  {
   "cell_type": "code",
   "execution_count": 19,
   "id": "6d823c06",
   "metadata": {},
   "outputs": [],
   "source": [
    "def song_get(emo):\n",
    "    # get the songs based on the emotion detected\n",
    "    r = lastfm_get({'method': 'tag.getTopTracks','tag':emo})\n",
    "    payload = r.json()\n",
    "    l=[]\n",
    "    artist = payload['tracks']['track'][0]['artist']['name']\n",
    "    for i in range(0,5):\n",
    "        song = payload['tracks']['track'][i]['name']\n",
    "        url = payload['tracks']['track'][i]['url']\n",
    "        l.append([song,url])\n",
    "    return l,artist"
   ]
  },
  {
   "cell_type": "code",
   "execution_count": 20,
   "id": "b0874047",
   "metadata": {},
   "outputs": [],
   "source": [
    "def similar_get(artist,song):\n",
    "    r = lastfm_get({'method': 'track.getSimilar','artist':artist,'track':song})\n",
    "    payload = r.json()\n",
    "    l=[]\n",
    "    for i in range(0,5):\n",
    "        similar_song = payload['similartracks']['track'][i]['name']\n",
    "        url = payload['similartracks']['track'][i]['url']\n",
    "        l.append([similar_song,url])\n",
    "    return l"
   ]
  },
  {
   "cell_type": "code",
   "execution_count": 21,
   "id": "e9d8341e",
   "metadata": {},
   "outputs": [],
   "source": [
    "def recommend(emo):\n",
    "    #result,prob = predict(sent)\n",
    "    # get songs and url based on the emotion\n",
    "    song,artist = song_get(emo)\n",
    "    # get similar songs and url based on the first song's name and artist\n",
    "    songs = similar_get(artist,song[0])\n",
    "    for i in songs:\n",
    "        song.append(i)\n",
    "    return song"
   ]
  },
  {
   "cell_type": "code",
   "execution_count": 72,
   "id": "4c7c3b3f",
   "metadata": {},
   "outputs": [
    {
     "data": {
      "text/plain": [
       "[['Falling', 'https://www.last.fm/music/Harry+Styles/_/Falling'],\n",
       " ['Glimpse of Us', 'https://www.last.fm/music/Joji/_/Glimpse+of+Us'],\n",
       " ['Death with Dignity',\n",
       "  'https://www.last.fm/music/Sufjan+Stevens/_/Death+with+Dignity'],\n",
       " ['Visions of Gideon',\n",
       "  'https://www.last.fm/music/Sufjan+Stevens/_/Visions+of+Gideon'],\n",
       " [\"The Very First Night (Taylor's Version) (From the Vault)\",\n",
       "  'https://www.last.fm/music/Taylor+Swift/_/The+Very+First+Night+(Taylor%27s+Version)+(From+the+Vault)'],\n",
       " ['Lights Up', 'https://www.last.fm/music/Harry+Styles/_/Lights+Up'],\n",
       " ['Fine Line', 'https://www.last.fm/music/Harry+Styles/_/Fine+Line'],\n",
       " ['Heather', 'https://www.last.fm/music/Conan+Gray/_/Heather'],\n",
       " ['happier', 'https://www.last.fm/music/Olivia+Rodrigo/_/happier'],\n",
       " ['favorite crime',\n",
       "  'https://www.last.fm/music/Olivia+Rodrigo/_/favorite+crime']]"
      ]
     },
     "execution_count": 72,
     "metadata": {},
     "output_type": "execute_result"
    }
   ],
   "source": [
    "recommend('longing')"
   ]
  },
  {
   "cell_type": "code",
   "execution_count": 17,
   "id": "e500e2cb",
   "metadata": {},
   "outputs": [],
   "source": [
    "sadness = ['sadness','depression','suffering','disappointment','shame','sympathy']\n",
    "anger = ['anger','rage','disgust','envy','torment','frustration']\n",
    "fear = ['fear','horror','fright','shock','panic','worry']\n",
    "love = ['love','affection','liking','longing','compassion','passion']\n",
    "surprise = ['surprise','amazement','astonishment']\n",
    "joy = ['joy','thrill','contentment','optimism','pride','rapture']"
   ]
  },
  {
   "cell_type": "code",
   "execution_count": 18,
   "id": "1c0a8cb9",
   "metadata": {},
   "outputs": [],
   "source": [
    "def song_get(emo):\n",
    "    # get the songs based on the emotion detected\n",
    "    if emo == 'sadness':\n",
    "        emotion = random.choice(sadness)\n",
    "    if emo == 'anger':\n",
    "        emotion = random.choice(anger)\n",
    "    if emo == 'fear':\n",
    "        emotion = random.choice(fear)\n",
    "    if emo == 'love':\n",
    "        emotion = random.choice(love)\n",
    "    if emo == 'surprise':\n",
    "        emotion = random.choice(surprise)\n",
    "    if emo == 'joy':\n",
    "        emotion = random.choice(joy)\n",
    "    r = lastfm_get({'method': 'tag.getTopTracks','tag':emotion})\n",
    "    payload = r.json()\n",
    "    l=[]\n",
    "    artist = payload['tracks']['track'][0]['artist']['name']\n",
    "    for i in range(0,5):\n",
    "        song = payload['tracks']['track'][i]['name']\n",
    "        url = payload['tracks']['track'][i]['url']\n",
    "        l.append([song,url])\n",
    "    return l,artist"
   ]
  },
  {
   "cell_type": "code",
   "execution_count": 19,
   "id": "34ae59fe",
   "metadata": {},
   "outputs": [
    {
     "data": {
      "text/plain": [
       "[['High Hopes',\n",
       "  'https://www.last.fm/music/Panic%21+at+the+Disco/_/High+Hopes'],\n",
       " ['Escapee', 'https://www.last.fm/music/Architecture+in+Helsinki/_/Escapee'],\n",
       " [\"Payne's Bay\", 'https://www.last.fm/music/Beirut/_/Payne%27s+Bay'],\n",
       " ['That Green Gentleman (Things Have Changed)',\n",
       "  'https://www.last.fm/music/Panic%21+at+the+Disco/_/That+Green+Gentleman+(Things+Have+Changed)'],\n",
       " ['The Peacock', 'https://www.last.fm/music/Beirut/_/The+Peacock']]"
      ]
     },
     "execution_count": 19,
     "metadata": {},
     "output_type": "execute_result"
    }
   ],
   "source": [
    "l,artist  = song_get('joy')\n",
    "l"
   ]
  },
  {
   "cell_type": "raw",
   "id": "783b99b4",
   "metadata": {},
   "source": [
    "artist"
   ]
  },
  {
   "cell_type": "code",
   "execution_count": 20,
   "id": "890db1ae",
   "metadata": {},
   "outputs": [],
   "source": [
    "def similar_get(artist,song):\n",
    "    r = lastfm_get({'method': 'track.getSimilar','artist':artist,'track':song})\n",
    "    payload = r.json()\n",
    "    l=[]\n",
    "    for i in range(0,5):\n",
    "        similar_song = payload['similartracks']['track'][i]['name']\n",
    "        url = payload['similartracks']['track'][i]['url']\n",
    "        l.append([similar_song,url])\n",
    "    return l"
   ]
  },
  {
   "cell_type": "code",
   "execution_count": 21,
   "id": "80b487f9",
   "metadata": {},
   "outputs": [],
   "source": [
    "l = similar_get('Demi Lovato','Body Say')"
   ]
  },
  {
   "cell_type": "code",
   "execution_count": 22,
   "id": "a6bc0d7a",
   "metadata": {},
   "outputs": [
    {
     "data": {
      "text/plain": [
       "[['Lonely', 'https://www.last.fm/music/Demi+Lovato/_/Lonely'],\n",
       " ['Warrior', 'https://www.last.fm/music/Demi+Lovato/_/Warrior'],\n",
       " ['Slumber Party feat. Tinashe',\n",
       "  'https://www.last.fm/music/Britney+Spears/_/Slumber+Party+feat.+Tinashe'],\n",
       " ['Your Body', 'https://www.last.fm/music/Christina+Aguilera/_/Your+Body'],\n",
       " ['Me & My Girls', 'https://www.last.fm/music/Selena+Gomez/_/Me+&+My+Girls']]"
      ]
     },
     "execution_count": 22,
     "metadata": {},
     "output_type": "execute_result"
    }
   ],
   "source": [
    "l"
   ]
  },
  {
   "cell_type": "code",
   "execution_count": 23,
   "id": "e74c5977",
   "metadata": {},
   "outputs": [],
   "source": [
    "def recommend(sent):\n",
    "    result,prob = predict(sent)\n",
    "    # get songs and url based on the emotion\n",
    "    song,artist = song_get(result)\n",
    "    # get similar songs and url based on the first song's name and artist\n",
    "    songs = similar_get(artist,song[0])\n",
    "    for i in songs:\n",
    "        song.append(i)\n",
    "    return song"
   ]
  },
  {
   "cell_type": "code",
   "execution_count": 24,
   "id": "ab1d7cea",
   "metadata": {},
   "outputs": [
    {
     "data": {
      "text/plain": [
       "[['High Hopes',\n",
       "  'https://www.last.fm/music/Panic%21+at+the+Disco/_/High+Hopes'],\n",
       " ['Escapee', 'https://www.last.fm/music/Architecture+in+Helsinki/_/Escapee'],\n",
       " [\"Payne's Bay\", 'https://www.last.fm/music/Beirut/_/Payne%27s+Bay'],\n",
       " ['That Green Gentleman (Things Have Changed)',\n",
       "  'https://www.last.fm/music/Panic%21+at+the+Disco/_/That+Green+Gentleman+(Things+Have+Changed)'],\n",
       " ['The Peacock', 'https://www.last.fm/music/Beirut/_/The+Peacock'],\n",
       " ['Hey Look Ma, I Made It',\n",
       "  'https://www.last.fm/music/Panic%21+at+the+Disco/_/Hey+Look+Ma,+I+Made+It'],\n",
       " ['This Is Gospel',\n",
       "  'https://www.last.fm/music/Panic%21+at+the+Disco/_/This+Is+Gospel'],\n",
       " ['Radioactive', 'https://www.last.fm/music/Imagine+Dragons/_/Radioactive'],\n",
       " ['Pompeii', 'https://www.last.fm/music/Bastille/_/Pompeii'],\n",
       " ['whAtEveR it tAkes',\n",
       "  'https://www.last.fm/music/Imagine+Dragons/_/whAtEveR+it+tAkes']]"
      ]
     },
     "execution_count": 24,
     "metadata": {},
     "output_type": "execute_result"
    }
   ],
   "source": [
    "recommend('hi')"
   ]
  },
  {
   "cell_type": "code",
   "execution_count": null,
   "id": "c6f2f96f",
   "metadata": {},
   "outputs": [],
   "source": []
  },
  {
   "cell_type": "code",
   "execution_count": null,
   "id": "8ae3beea",
   "metadata": {},
   "outputs": [],
   "source": []
  }
 ],
 "metadata": {
  "kernelspec": {
   "display_name": "Python 3 (ipykernel)",
   "language": "python",
   "name": "python3"
  },
  "language_info": {
   "codemirror_mode": {
    "name": "ipython",
    "version": 3
   },
   "file_extension": ".py",
   "mimetype": "text/x-python",
   "name": "python",
   "nbconvert_exporter": "python",
   "pygments_lexer": "ipython3",
   "version": "3.8.11"
  }
 },
 "nbformat": 4,
 "nbformat_minor": 5
}
