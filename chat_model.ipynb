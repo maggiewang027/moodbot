{
 "cells": [
  {
   "cell_type": "code",
   "execution_count": 3,
   "id": "20080d90",
   "metadata": {},
   "outputs": [],
   "source": [
    "import pandas as pd\n",
    "import numpy as np\n",
    "import seaborn as sns\n",
    "import matplotlib.pyplot as plt\n",
    "import pickle\n",
    "import json"
   ]
  },
  {
   "cell_type": "code",
   "execution_count": 4,
   "id": "5505b370",
   "metadata": {},
   "outputs": [],
   "source": [
    "# load the datasets\n",
    "int_data = json.loads(open('data/intents.json').read())"
   ]
  },
  {
   "cell_type": "code",
   "execution_count": 9,
   "id": "a56748ba",
   "metadata": {},
   "outputs": [],
   "source": [
    "docs = []\n",
    "for item_int in int_data['intents']:\n",
    "    for pattern in item_int['patterns']:\n",
    "        docs.append([pattern, item_int['tag']])"
   ]
  },
  {
   "cell_type": "code",
   "execution_count": 10,
   "id": "b0db2454",
   "metadata": {},
   "outputs": [],
   "source": [
    "df = pd.DataFrame(docs, columns=['Text', 'Intent'])"
   ]
  },
  {
   "cell_type": "code",
   "execution_count": 12,
   "id": "6b645d2f",
   "metadata": {},
   "outputs": [
    {
     "data": {
      "text/plain": [
       "Text      0\n",
       "Intent    0\n",
       "dtype: int64"
      ]
     },
     "execution_count": 12,
     "metadata": {},
     "output_type": "execute_result"
    }
   ],
   "source": [
    "df.isnull().sum()"
   ]
  },
  {
   "cell_type": "code",
   "execution_count": 11,
   "id": "e75de1f7",
   "metadata": {},
   "outputs": [
    {
     "data": {
      "text/html": [
       "<div>\n",
       "<style scoped>\n",
       "    .dataframe tbody tr th:only-of-type {\n",
       "        vertical-align: middle;\n",
       "    }\n",
       "\n",
       "    .dataframe tbody tr th {\n",
       "        vertical-align: top;\n",
       "    }\n",
       "\n",
       "    .dataframe thead th {\n",
       "        text-align: right;\n",
       "    }\n",
       "</style>\n",
       "<table border=\"1\" class=\"dataframe\">\n",
       "  <thead>\n",
       "    <tr style=\"text-align: right;\">\n",
       "      <th></th>\n",
       "      <th>Text</th>\n",
       "      <th>Intent</th>\n",
       "    </tr>\n",
       "  </thead>\n",
       "  <tbody>\n",
       "    <tr>\n",
       "      <th>0</th>\n",
       "      <td>Hi</td>\n",
       "      <td>greeting</td>\n",
       "    </tr>\n",
       "    <tr>\n",
       "      <th>1</th>\n",
       "      <td>Hi there</td>\n",
       "      <td>greeting</td>\n",
       "    </tr>\n",
       "    <tr>\n",
       "      <th>2</th>\n",
       "      <td>Hello</td>\n",
       "      <td>greeting</td>\n",
       "    </tr>\n",
       "    <tr>\n",
       "      <th>3</th>\n",
       "      <td>Hello there</td>\n",
       "      <td>greeting</td>\n",
       "    </tr>\n",
       "    <tr>\n",
       "      <th>4</th>\n",
       "      <td>Hya</td>\n",
       "      <td>greeting</td>\n",
       "    </tr>\n",
       "  </tbody>\n",
       "</table>\n",
       "</div>"
      ],
      "text/plain": [
       "          Text    Intent\n",
       "0           Hi  greeting\n",
       "1     Hi there  greeting\n",
       "2        Hello  greeting\n",
       "3  Hello there  greeting\n",
       "4          Hya  greeting"
      ]
     },
     "execution_count": 11,
     "metadata": {},
     "output_type": "execute_result"
    }
   ],
   "source": [
    "df.head()"
   ]
  },
  {
   "cell_type": "code",
   "execution_count": 23,
   "id": "31015e09",
   "metadata": {},
   "outputs": [
    {
     "data": {
      "image/png": "[encoded data removed]",
      "text/plain": [
       "<Figure size 720x432 with 1 Axes>"
      ]
     },
     "metadata": {
      "needs_background": "light"
     },
     "output_type": "display_data"
    }
   ],
   "source": [
    "plt.figure(figsize=(10,6))\n",
    "fig = sns.countplot(data=df,x='Intent')\n",
    "fig.set_xticklabels(fig.get_xticklabels(), rotation=45)\n",
    "plt.show()"
   ]
  },
  {
   "cell_type": "markdown",
   "id": "27e7c95c",
   "metadata": {},
   "source": [
    "Data Pre-processing"
   ]
  },
  {
   "cell_type": "code",
   "execution_count": 14,
   "id": "ab4b30c1",
   "metadata": {},
   "outputs": [],
   "source": [
    "from sklearn.model_selection import train_test_split\n",
    "from sklearn.preprocessing import LabelEncoder\n",
    "lb = LabelEncoder()\n",
    "from tensorflow.keras.utils import to_categorical\n",
    "from tensorflow.keras.preprocessing.text import Tokenizer\n",
    "from tensorflow.keras.preprocessing.sequence import pad_sequences\n",
    "from nltk.stem import WordNetLemmatizer\n",
    "import re \n",
    "import nltk\n",
    "\n",
    "import warnings\n",
    "warnings.filterwarnings('ignore')"
   ]
  },
  {
   "cell_type": "code",
   "execution_count": 6,
   "id": "270e5564",
   "metadata": {},
   "outputs": [],
   "source": [
    "sentences = []\n",
    "sent_labels = []\n",
    "labels = []\n",
    "\n",
    "for item_int in int_data['intents']:\n",
    "    for pattern in item_int['patterns']:\n",
    "        lemmatizer = WordNetLemmatizer()\n",
    "        text = re.sub('[^a-zA-Z]', ' ', pattern) # punctuation removal\n",
    "        text = text.lower() # convert to lowercase\n",
    "        words = text.split()\n",
    "        words = [lemmatizer.lemmatize(w) for w in words] # lemmatizing\n",
    "        sentences.append(\" \".join(words))\n",
    "        sent_labels.append(item_int['tag'])\n",
    "        if item_int['tag'] not in labels:\n",
    "            labels.append(item_int['tag'])"
   ]
  },
  {
   "cell_type": "code",
   "execution_count": 7,
   "id": "77dee9e3",
   "metadata": {},
   "outputs": [
    {
     "name": "stdout",
     "output_type": "stream",
     "text": [
      "94\n",
      "94\n",
      "16\n"
     ]
    }
   ],
   "source": [
    "print(len(sentences))\n",
    "print(len(sent_labels))\n",
    "print(len(labels))"
   ]
  },
  {
   "cell_type": "code",
   "execution_count": 6,
   "id": "cea758be",
   "metadata": {},
   "outputs": [
    {
     "data": {
      "text/plain": [
       "8"
      ]
     },
     "execution_count": 6,
     "metadata": {},
     "output_type": "execute_result"
    }
   ],
   "source": [
    "max(len(x.split()) for x in sentences)"
   ]
  },
  {
   "cell_type": "code",
   "execution_count": 7,
   "id": "220aa31c",
   "metadata": {},
   "outputs": [
    {
     "data": {
      "text/plain": [
       "<AxesSubplot:ylabel='Count'>"
      ]
     },
     "execution_count": 7,
     "metadata": {},
     "output_type": "execute_result"
    },
    {
     "data": {
      "image/png": "[encoded data removed]",
      "text/plain": [
       "<Figure size 432x288 with 1 Axes>"
      ]
     },
     "metadata": {
      "needs_background": "light"
     },
     "output_type": "display_data"
    }
   ],
   "source": [
    "sns.histplot(x=(len(x.split()) for x in sentences))"
   ]
  },
  {
   "cell_type": "code",
   "execution_count": 8,
   "id": "995c2685",
   "metadata": {},
   "outputs": [],
   "source": [
    "lb = LabelEncoder()\n",
    "y_label = lb.fit_transform(sent_labels)"
   ]
  },
  {
   "cell_type": "code",
   "execution_count": 9,
   "id": "d166054d",
   "metadata": {},
   "outputs": [],
   "source": [
    "tokenizer = Tokenizer()\n",
    "tokenizer.fit_on_texts(sentences)"
   ]
  },
  {
   "cell_type": "code",
   "execution_count": 10,
   "id": "4c1df29c",
   "metadata": {},
   "outputs": [
    {
     "name": "stdout",
     "output_type": "stream",
     "text": [
      "97\n"
     ]
    }
   ],
   "source": [
    "print(len(tokenizer.word_index))"
   ]
  },
  {
   "cell_type": "code",
   "execution_count": 11,
   "id": "ab17a25d",
   "metadata": {},
   "outputs": [],
   "source": [
    "with open('assets/tokenizer_chat.pickle', 'wb') as f: \n",
    "    pickle.dump(tokenizer, f)\n",
    "with open('assets/label_encoder_chat.pickle','wb') as file:\n",
    "    pickle.dump(lb,file)"
   ]
  },
  {
   "cell_type": "code",
   "execution_count": 12,
   "id": "840fac1a",
   "metadata": {},
   "outputs": [],
   "source": [
    "x = tokenizer.texts_to_sequences(sentences)\n",
    "x_pad = pad_sequences(x,maxlen=8)"
   ]
  },
  {
   "cell_type": "code",
   "execution_count": 13,
   "id": "e480b7cd",
   "metadata": {},
   "outputs": [
    {
     "data": {
      "text/plain": [
       "array([[ 0,  0,  0,  0,  0,  0,  0, 31],\n",
       "       [ 0,  0,  0,  0,  0,  0, 31, 32],\n",
       "       [ 0,  0,  0,  0,  0,  0,  0, 18],\n",
       "       [ 0,  0,  0,  0,  0,  0, 18, 32],\n",
       "       [ 0,  0,  0,  0,  0,  0,  0, 44],\n",
       "       [ 0,  0,  0,  0,  0,  0, 44, 32],\n",
       "       [ 0,  0,  0,  0,  0, 12,  2,  1],\n",
       "       [ 0,  0,  0,  0, 31, 12,  2,  1],\n",
       "       [ 0,  0,  0,  0, 18, 12,  2,  1],\n",
       "       [ 0,  0,  0,  0, 12,  2,  1, 33],\n",
       "       [ 0,  0,  0, 45,  1,  2, 33, 46],\n",
       "       [ 0,  0, 18, 45,  1,  2, 33, 46],\n",
       "       [ 0,  0,  0,  0, 12, 47, 61, 62],\n",
       "       [ 0,  0,  0,  0,  4, 19, 10, 48],\n",
       "       [ 0,  0,  0,  4, 63,  6, 34,  1],\n",
       "       [ 0,  0,  0,  4,  5,  6, 34,  1],\n",
       "       [ 0,  0,  4,  3, 10, 64, 34,  1],\n",
       "       [ 0,  0,  0,  0,  0,  9,  2,  1],\n",
       "       [ 0,  0,  0,  0, 49,  7, 10, 48],\n",
       "       [ 0,  0,  0,  0,  0,  9, 65,  1],\n",
       "       [ 0,  0,  0,  0,  9, 19, 10, 66],\n",
       "       [ 0,  0,  3,  1, 20,  9, 50,  1],\n",
       "       [ 0,  0,  0,  0,  9, 19, 10, 67],\n",
       "       [ 0,  0,  0,  0,  0,  9, 50,  1],\n",
       "       [ 0,  0,  0,  0,  0,  9, 68,  1],\n",
       "       [ 0,  0,  0,  0,  0, 35, 21,  1],\n",
       "       [ 0,  0,  0,  0,  0,  0, 35, 13],\n",
       "       [ 0,  0,  0,  0,  0,  0,  0, 35],\n",
       "       [ 0,  0,  0,  0,  0,  0,  0, 13],\n",
       "       [ 0,  0,  0,  0,  0,  0, 21,  1],\n",
       "       [ 0,  0,  0,  0,  0, 69, 47, 70],\n",
       "       [ 0,  0,  0,  0,  0,  0,  0, 22],\n",
       "       [ 0,  0,  0,  0,  0, 14,  1, 71],\n",
       "       [ 0,  0,  0,  0,  0,  0,  0, 23],\n",
       "       [ 0,  0,  0,  0,  0,  0, 13, 22],\n",
       "       [ 0,  0,  0, 13, 36, 37, 72, 23],\n",
       "       [ 0,  0,  0,  0,  0, 21,  1, 22],\n",
       "       [ 0,  0,  0,  0,  0, 21,  1, 23],\n",
       "       [ 0,  0,  0,  0,  0,  0, 13, 23],\n",
       "       [ 0,  0,  0,  0,  0, 13, 73, 22],\n",
       "       [ 0,  0,  0,  0,  4,  5,  1,  3],\n",
       "       [ 0,  0,  0,  0,  4,  1,  5,  3],\n",
       "       [ 0,  0,  0,  0,  0,  4,  1,  3],\n",
       "       [ 0,  0,  0,  0,  4, 19, 10, 74],\n",
       "       [ 0,  0,  0,  0,  0, 75, 10, 76],\n",
       "       [ 0,  0,  6, 24, 38, 15, 16,  1],\n",
       "       [ 0,  0,  6, 77, 38, 15, 16,  1],\n",
       "       [ 0,  0,  0,  0, 38, 15, 16,  1],\n",
       "       [ 0,  0,  0,  0, 25, 26, 36,  1],\n",
       "       [ 0,  0,  0, 25, 26, 78, 36,  1],\n",
       "       [ 0,  0,  0, 25, 26, 79, 16,  1],\n",
       "       [ 0,  0,  0, 25, 26, 80, 16,  1],\n",
       "       [ 0,  3,  1, 51,  4,  6, 24, 52],\n",
       "       [ 0,  0,  0,  0,  3,  1, 51,  7],\n",
       "       [ 0,  3,  1, 20,  4,  6, 24, 52],\n",
       "       [ 0,  0,  0,  0,  3,  1, 81,  7],\n",
       "       [ 0,  0,  0,  0, 20,  4,  6, 82],\n",
       "       [ 0,  0,  0,  0,  0,  0, 53, 39],\n",
       "       [ 0,  0,  0,  0,  0,  0, 83, 54],\n",
       "       [ 0,  0,  0,  0,  0,  0, 84, 15],\n",
       "       [ 0,  0,  0,  0,  0,  0, 85, 15],\n",
       "       [ 0,  0,  0,  0,  0, 17, 53, 39],\n",
       "       [ 0,  0,  0,  0,  0,  0,  0, 39],\n",
       "       [ 0,  0,  0,  0,  0,  0,  0, 86],\n",
       "       [ 0,  0,  0,  0,  0,  0, 55, 87],\n",
       "       [ 0,  0,  0,  0,  0,  0,  0, 55],\n",
       "       [ 0,  0,  0,  0,  0,  0,  0, 88],\n",
       "       [ 0,  0,  0,  0,  0,  0,  0, 89],\n",
       "       [ 0,  0,  0,  0,  5,  1, 14,  7],\n",
       "       [ 0,  0,  0,  0,  3,  1, 14,  7],\n",
       "       [ 0,  5,  1, 14, 56, 57, 37, 58],\n",
       "       [ 0,  3,  1, 14, 56, 57, 37, 58],\n",
       "       [ 0,  0,  0,  0,  0,  0, 90,  7],\n",
       "       [ 0,  0,  0,  0,  9, 24,  6, 17],\n",
       "       [ 0,  0,  0,  0,  1,  2, 27, 40],\n",
       "       [ 0,  0,  1,  2,  8, 27, 40, 41],\n",
       "       [ 0,  0,  0,  0,  1,  2, 27, 59],\n",
       "       [ 0,  0,  1,  2,  8, 27, 59, 41],\n",
       "       [ 0,  0,  0,  0,  1,  2,  8, 60],\n",
       "       [ 0,  0,  0,  0,  0,  0, 40, 41],\n",
       "       [ 0,  0,  0,  0,  0,  0,  0, 60],\n",
       "       [ 0,  5,  1, 11,  1,  2, 28, 29],\n",
       "       [ 0,  5,  1, 11,  1,  2, 28, 29],\n",
       "       [ 0,  5,  1, 11,  1, 42,  8, 43],\n",
       "       [ 5,  1, 11,  1,  2, 28, 29, 17],\n",
       "       [ 5,  1, 11,  1,  2, 28, 29, 17],\n",
       "       [ 5,  1, 11,  1, 42,  8, 43, 17],\n",
       "       [ 0,  0,  0, 11,  1, 42,  8, 43],\n",
       "       [ 0,  0,  0,  0, 49,  7,  8, 30],\n",
       "       [ 0,  0,  0,  3,  1, 20, 91, 30],\n",
       "       [ 0,  0,  0,  0, 12, 92,  8, 30],\n",
       "       [ 0,  0,  0,  0, 93,  7,  8, 30],\n",
       "       [ 0,  0,  0,  0,  0, 94,  7, 95],\n",
       "       [ 0,  0,  0,  0,  6, 96, 97, 54]], dtype=int32)"
      ]
     },
     "execution_count": 13,
     "metadata": {},
     "output_type": "execute_result"
    }
   ],
   "source": [
    "x_pad"
   ]
  },
  {
   "cell_type": "code",
   "execution_count": 14,
   "id": "7b1edb16",
   "metadata": {},
   "outputs": [],
   "source": [
    "x_train, x_test, y_train_lb, y_test_lb = train_test_split(x_pad, y_label, test_size=0.2, random_state=42)"
   ]
  },
  {
   "cell_type": "code",
   "execution_count": 15,
   "id": "d26b287e",
   "metadata": {},
   "outputs": [
    {
     "data": {
      "text/plain": [
       "array([[ 0,  0,  0,  0,  0,  0,  0, 55],\n",
       "       [ 0,  0,  0,  4,  5,  6, 34,  1],\n",
       "       [ 0,  0,  0,  0,  5,  1, 14,  7],\n",
       "       [ 0,  0,  0,  0,  1,  2,  8, 60],\n",
       "       [ 0,  0,  0,  0,  0, 69, 47, 70],\n",
       "       [ 0,  0,  0,  0,  0,  0,  0, 23],\n",
       "       [ 0,  0, 18, 45,  1,  2, 33, 46],\n",
       "       [ 0,  0,  0,  0,  0,  0,  0, 88],\n",
       "       [ 0,  0,  0,  0,  3,  1, 14,  7],\n",
       "       [ 0,  0,  0,  0,  0,  0,  0, 22],\n",
       "       [ 0,  0,  1,  2,  8, 27, 59, 41],\n",
       "       [ 0,  0,  0,  0, 12,  2,  1, 33],\n",
       "       [ 0,  5,  1, 14, 56, 57, 37, 58],\n",
       "       [ 0,  0,  0,  0,  0,  0, 44, 32],\n",
       "       [ 0,  0,  0,  0,  0,  4,  1,  3],\n",
       "       [ 0,  0,  0,  0, 38, 15, 16,  1],\n",
       "       [ 0,  0,  4,  3, 10, 64, 34,  1],\n",
       "       [ 0,  0,  6, 24, 38, 15, 16,  1],\n",
       "       [ 0,  0,  0,  0,  0,  0, 13, 22],\n",
       "       [ 0,  0,  0,  0, 31, 12,  2,  1],\n",
       "       [ 0,  0,  0,  0,  0,  0,  0, 60],\n",
       "       [ 0,  0,  0,  0,  0,  0,  0, 35],\n",
       "       [ 0,  0,  0,  0,  0,  9, 65,  1],\n",
       "       [ 0,  0,  0,  0,  1,  2, 27, 59],\n",
       "       [ 0,  0,  0,  0,  0, 35, 21,  1],\n",
       "       [ 0,  0,  0,  0,  3,  1, 51,  7],\n",
       "       [ 0,  0,  0,  0,  4, 19, 10, 48],\n",
       "       [ 0,  0,  0,  0,  0,  9, 68,  1],\n",
       "       [ 0,  0,  0,  0,  0,  0, 18, 32],\n",
       "       [ 0,  0,  0,  0,  0,  9,  2,  1],\n",
       "       [ 0,  0,  0,  0,  0,  0, 13, 23],\n",
       "       [ 0,  0,  0,  0, 18, 12,  2,  1],\n",
       "       [ 0,  0,  0,  0,  9, 24,  6, 17],\n",
       "       [ 0,  0,  0,  0,  0, 12,  2,  1],\n",
       "       [ 0,  0,  0,  3,  1, 20, 91, 30],\n",
       "       [ 0,  0,  0,  0,  0, 21,  1, 22],\n",
       "       [ 0,  0,  0, 11,  1, 42,  8, 43],\n",
       "       [ 0,  0,  0,  0, 20,  4,  6, 82],\n",
       "       [ 0,  0,  0,  0,  6, 96, 97, 54],\n",
       "       [ 0,  3,  1, 20,  4,  6, 24, 52],\n",
       "       [ 0,  0,  0,  0,  4, 19, 10, 74],\n",
       "       [ 0,  0,  0, 25, 26, 79, 16,  1],\n",
       "       [ 0,  0,  1,  2,  8, 27, 40, 41],\n",
       "       [ 0,  0,  6, 77, 38, 15, 16,  1],\n",
       "       [ 0,  0,  0,  0,  0,  0, 55, 87],\n",
       "       [ 0,  0,  0,  0,  0, 17, 53, 39],\n",
       "       [ 0,  0,  0,  0, 93,  7,  8, 30],\n",
       "       [ 5,  1, 11,  1,  2, 28, 29, 17],\n",
       "       [ 0,  0,  0,  0,  4,  1,  5,  3],\n",
       "       [ 0,  0,  0,  0,  0,  0, 83, 54],\n",
       "       [ 0,  0,  0,  0, 25, 26, 36,  1],\n",
       "       [ 0,  5,  1, 11,  1,  2, 28, 29],\n",
       "       [ 0,  0,  0,  0,  0,  0, 53, 39],\n",
       "       [ 0,  0,  0,  0,  0, 14,  1, 71],\n",
       "       [ 0,  0,  0,  0, 49,  7,  8, 30],\n",
       "       [ 0,  0,  0,  0,  0,  0, 84, 15],\n",
       "       [ 0,  0,  0,  0,  0,  0,  0, 86],\n",
       "       [ 0,  0,  0,  0,  0,  0, 40, 41],\n",
       "       [ 0,  0,  0,  0,  0, 21,  1, 23],\n",
       "       [ 0,  0,  0,  0,  0,  0, 21,  1],\n",
       "       [ 0,  0,  0,  0,  0,  0, 31, 32],\n",
       "       [ 0,  3,  1, 51,  4,  6, 24, 52],\n",
       "       [ 0,  0,  3,  1, 20,  9, 50,  1],\n",
       "       [ 0,  0,  0,  0,  0,  0,  0, 18],\n",
       "       [ 0,  0,  0,  0,  0,  9, 50,  1],\n",
       "       [ 5,  1, 11,  1,  2, 28, 29, 17],\n",
       "       [ 0,  0,  0,  0,  1,  2, 27, 40],\n",
       "       [ 5,  1, 11,  1, 42,  8, 43, 17],\n",
       "       [ 0,  5,  1, 11,  1,  2, 28, 29],\n",
       "       [ 0,  0,  0,  0,  9, 19, 10, 66],\n",
       "       [ 0,  0,  0,  0,  0,  0, 85, 15],\n",
       "       [ 0,  3,  1, 14, 56, 57, 37, 58],\n",
       "       [ 0,  0,  0,  4, 63,  6, 34,  1],\n",
       "       [ 0,  0,  0,  0,  0, 94,  7, 95],\n",
       "       [ 0,  0,  0, 25, 26, 80, 16,  1]], dtype=int32)"
      ]
     },
     "execution_count": 15,
     "metadata": {},
     "output_type": "execute_result"
    }
   ],
   "source": [
    "x_train"
   ]
  },
  {
   "cell_type": "code",
   "execution_count": 16,
   "id": "33e7b654",
   "metadata": {},
   "outputs": [],
   "source": [
    "y_train = to_categorical(y_train_lb)"
   ]
  },
  {
   "cell_type": "code",
   "execution_count": 17,
   "id": "6bb0f833",
   "metadata": {},
   "outputs": [
    {
     "data": {
      "text/plain": [
       "array([[0., 0., 0., ..., 0., 0., 0.],\n",
       "       [0., 0., 0., ..., 0., 0., 0.],\n",
       "       [0., 0., 0., ..., 0., 0., 1.],\n",
       "       ...,\n",
       "       [0., 0., 0., ..., 0., 0., 0.],\n",
       "       [0., 0., 0., ..., 0., 0., 0.],\n",
       "       [0., 0., 0., ..., 0., 0., 0.]], dtype=float32)"
      ]
     },
     "execution_count": 17,
     "metadata": {},
     "output_type": "execute_result"
    }
   ],
   "source": [
    "y_train"
   ]
  },
  {
   "cell_type": "code",
   "execution_count": 18,
   "id": "5df528c5",
   "metadata": {},
   "outputs": [
    {
     "name": "stdout",
     "output_type": "stream",
     "text": [
      "(75, 8) (75, 16)\n"
     ]
    }
   ],
   "source": [
    "print(x_train.shape, y_train.shape)"
   ]
  },
  {
   "cell_type": "code",
   "execution_count": 19,
   "id": "6bb2b005",
   "metadata": {},
   "outputs": [],
   "source": [
    "y_test = to_categorical(y_test_lb)"
   ]
  },
  {
   "cell_type": "code",
   "execution_count": 20,
   "id": "f659b048",
   "metadata": {},
   "outputs": [
    {
     "name": "stdout",
     "output_type": "stream",
     "text": [
      "(19, 8) (19, 16)\n"
     ]
    }
   ],
   "source": [
    "print(x_test.shape, y_test.shape)"
   ]
  },
  {
   "cell_type": "markdown",
   "id": "86b17989",
   "metadata": {},
   "source": [
    "Training"
   ]
  },
  {
   "cell_type": "code",
   "execution_count": 21,
   "id": "9203996e",
   "metadata": {},
   "outputs": [],
   "source": [
    "from keras.models import Sequential\n",
    "from keras.layers import LSTM,Dense,Embedding,Dropout"
   ]
  },
  {
   "cell_type": "code",
   "execution_count": 22,
   "id": "ea2dc9dd",
   "metadata": {},
   "outputs": [
    {
     "name": "stderr",
     "output_type": "stream",
     "text": [
      "2022-07-28 18:05:45.414868: I tensorflow/core/platform/cpu_feature_guard.cc:142] This TensorFlow binary is optimized with oneAPI Deep Neural Network Library (oneDNN) to use the following CPU instructions in performance-critical operations:  AVX2 AVX512F FMA\n",
      "To enable them in other operations, rebuild TensorFlow with the appropriate compiler flags.\n"
     ]
    }
   ],
   "source": [
    "model = Sequential()\n",
    "model.add(Embedding(input_dim=98,output_dim=64,input_length=8))\n",
    "model.add(LSTM(64))\n",
    "model.add(Dense(32,activation='relu'))\n",
    "model.add(Dropout(0.5))\n",
    "model.add(Dense(16,activation='softmax'))"
   ]
  },
  {
   "cell_type": "code",
   "execution_count": 23,
   "id": "3c2d88ce",
   "metadata": {},
   "outputs": [
    {
     "name": "stdout",
     "output_type": "stream",
     "text": [
      "Model: \"sequential\"\n",
      "_________________________________________________________________\n",
      "Layer (type)                 Output Shape              Param #   \n",
      "=================================================================\n",
      "embedding (Embedding)        (None, 8, 64)             6272      \n",
      "_________________________________________________________________\n",
      "lstm (LSTM)                  (None, 64)                33024     \n",
      "_________________________________________________________________\n",
      "dense (Dense)                (None, 32)                2080      \n",
      "_________________________________________________________________\n",
      "dropout (Dropout)            (None, 32)                0         \n",
      "_________________________________________________________________\n",
      "dense_1 (Dense)              (None, 16)                528       \n",
      "=================================================================\n",
      "Total params: 41,904\n",
      "Trainable params: 41,904\n",
      "Non-trainable params: 0\n",
      "_________________________________________________________________\n"
     ]
    }
   ],
   "source": [
    "model.compile(optimizer='adam',loss='categorical_crossentropy',metrics=['accuracy'])\n",
    "model.summary()"
   ]
  },
  {
   "cell_type": "code",
   "execution_count": 24,
   "id": "a96f427c",
   "metadata": {},
   "outputs": [
    {
     "name": "stdout",
     "output_type": "stream",
     "text": [
      "Epoch 1/150\n"
     ]
    },
    {
     "name": "stderr",
     "output_type": "stream",
     "text": [
      "2022-07-28 18:05:45.794022: I tensorflow/compiler/mlir/mlir_graph_optimization_pass.cc:185] None of the MLIR Optimization Passes are enabled (registered 2)\n"
     ]
    },
    {
     "name": "stdout",
     "output_type": "stream",
     "text": [
      "3/3 [==============================] - 3s 247ms/step - loss: 2.7740 - accuracy: 0.0800 - val_loss: 2.7704 - val_accuracy: 0.0526\n",
      "Epoch 2/150\n",
      "3/3 [==============================] - 0s 18ms/step - loss: 2.7671 - accuracy: 0.1200 - val_loss: 2.7686 - val_accuracy: 0.1579\n",
      "Epoch 3/150\n",
      "3/3 [==============================] - 0s 17ms/step - loss: 2.7617 - accuracy: 0.1867 - val_loss: 2.7651 - val_accuracy: 0.1579\n",
      "Epoch 4/150\n",
      "3/3 [==============================] - 0s 17ms/step - loss: 2.7550 - accuracy: 0.1600 - val_loss: 2.7620 - val_accuracy: 0.2105\n",
      "Epoch 5/150\n",
      "3/3 [==============================] - 0s 16ms/step - loss: 2.7511 - accuracy: 0.1867 - val_loss: 2.7594 - val_accuracy: 0.2105\n",
      "Epoch 6/150\n",
      "3/3 [==============================] - 0s 16ms/step - loss: 2.7455 - accuracy: 0.1467 - val_loss: 2.7571 - val_accuracy: 0.1579\n",
      "Epoch 7/150\n",
      "3/3 [==============================] - 0s 17ms/step - loss: 2.7400 - accuracy: 0.1733 - val_loss: 2.7525 - val_accuracy: 0.1579\n",
      "Epoch 8/150\n",
      "3/3 [==============================] - 0s 17ms/step - loss: 2.7263 - accuracy: 0.1600 - val_loss: 2.7476 - val_accuracy: 0.1579\n",
      "Epoch 9/150\n",
      "3/3 [==============================] - 0s 20ms/step - loss: 2.7076 - accuracy: 0.2667 - val_loss: 2.7422 - val_accuracy: 0.1579\n",
      "Epoch 10/150\n",
      "3/3 [==============================] - 0s 18ms/step - loss: 2.7085 - accuracy: 0.2133 - val_loss: 2.7363 - val_accuracy: 0.1579\n",
      "Epoch 11/150\n",
      "3/3 [==============================] - 0s 18ms/step - loss: 2.6890 - accuracy: 0.2800 - val_loss: 2.7299 - val_accuracy: 0.1579\n",
      "Epoch 12/150\n",
      "3/3 [==============================] - 0s 18ms/step - loss: 2.6905 - accuracy: 0.1867 - val_loss: 2.7203 - val_accuracy: 0.1579\n",
      "Epoch 13/150\n",
      "3/3 [==============================] - 0s 18ms/step - loss: 2.6458 - accuracy: 0.2533 - val_loss: 2.7067 - val_accuracy: 0.1579\n",
      "Epoch 14/150\n",
      "3/3 [==============================] - 0s 28ms/step - loss: 2.6301 - accuracy: 0.2000 - val_loss: 2.6884 - val_accuracy: 0.1579\n",
      "Epoch 15/150\n",
      "3/3 [==============================] - 0s 38ms/step - loss: 2.6083 - accuracy: 0.2000 - val_loss: 2.6656 - val_accuracy: 0.1579\n",
      "Epoch 16/150\n",
      "3/3 [==============================] - 0s 20ms/step - loss: 2.5458 - accuracy: 0.2533 - val_loss: 2.6368 - val_accuracy: 0.1579\n",
      "Epoch 17/150\n",
      "3/3 [==============================] - 0s 17ms/step - loss: 2.4667 - accuracy: 0.2667 - val_loss: 2.5998 - val_accuracy: 0.1053\n",
      "Epoch 18/150\n",
      "3/3 [==============================] - 0s 17ms/step - loss: 2.4499 - accuracy: 0.2267 - val_loss: 2.5616 - val_accuracy: 0.1053\n",
      "Epoch 19/150\n",
      "3/3 [==============================] - 0s 18ms/step - loss: 2.4001 - accuracy: 0.2267 - val_loss: 2.5196 - val_accuracy: 0.1053\n",
      "Epoch 20/150\n",
      "3/3 [==============================] - 0s 16ms/step - loss: 2.3458 - accuracy: 0.2133 - val_loss: 2.4897 - val_accuracy: 0.1053\n",
      "Epoch 21/150\n",
      "3/3 [==============================] - 0s 16ms/step - loss: 2.2848 - accuracy: 0.2400 - val_loss: 2.4690 - val_accuracy: 0.2105\n",
      "Epoch 22/150\n",
      "3/3 [==============================] - 0s 17ms/step - loss: 2.3449 - accuracy: 0.2133 - val_loss: 2.4292 - val_accuracy: 0.2105\n",
      "Epoch 23/150\n",
      "3/3 [==============================] - 0s 17ms/step - loss: 2.2326 - accuracy: 0.2267 - val_loss: 2.3871 - val_accuracy: 0.1053\n",
      "Epoch 24/150\n",
      "3/3 [==============================] - 0s 16ms/step - loss: 2.1626 - accuracy: 0.2267 - val_loss: 2.3541 - val_accuracy: 0.1053\n",
      "Epoch 25/150\n",
      "3/3 [==============================] - 0s 17ms/step - loss: 2.1091 - accuracy: 0.2933 - val_loss: 2.3266 - val_accuracy: 0.1579\n",
      "Epoch 26/150\n",
      "3/3 [==============================] - 0s 15ms/step - loss: 2.0052 - accuracy: 0.3867 - val_loss: 2.3176 - val_accuracy: 0.2105\n",
      "Epoch 27/150\n",
      "3/3 [==============================] - 0s 18ms/step - loss: 2.0374 - accuracy: 0.2933 - val_loss: 2.2997 - val_accuracy: 0.2105\n",
      "Epoch 28/150\n",
      "3/3 [==============================] - 0s 16ms/step - loss: 1.9617 - accuracy: 0.3600 - val_loss: 2.2599 - val_accuracy: 0.2105\n",
      "Epoch 29/150\n",
      "3/3 [==============================] - 0s 18ms/step - loss: 1.9253 - accuracy: 0.3333 - val_loss: 2.2088 - val_accuracy: 0.2105\n",
      "Epoch 30/150\n",
      "3/3 [==============================] - 0s 15ms/step - loss: 1.9244 - accuracy: 0.4133 - val_loss: 2.1788 - val_accuracy: 0.2105\n",
      "Epoch 31/150\n",
      "3/3 [==============================] - 0s 17ms/step - loss: 1.8554 - accuracy: 0.3733 - val_loss: 2.1467 - val_accuracy: 0.2105\n",
      "Epoch 32/150\n",
      "3/3 [==============================] - 0s 17ms/step - loss: 1.7375 - accuracy: 0.4800 - val_loss: 2.1571 - val_accuracy: 0.2105\n",
      "Epoch 33/150\n",
      "3/3 [==============================] - 0s 17ms/step - loss: 1.6987 - accuracy: 0.4533 - val_loss: 2.1625 - val_accuracy: 0.1579\n",
      "Epoch 34/150\n",
      "3/3 [==============================] - 0s 15ms/step - loss: 1.7114 - accuracy: 0.4533 - val_loss: 2.1198 - val_accuracy: 0.2632\n",
      "Epoch 35/150\n",
      "3/3 [==============================] - 0s 20ms/step - loss: 1.6496 - accuracy: 0.4133 - val_loss: 2.0721 - val_accuracy: 0.2105\n",
      "Epoch 36/150\n",
      "3/3 [==============================] - 0s 23ms/step - loss: 1.5914 - accuracy: 0.4000 - val_loss: 2.0529 - val_accuracy: 0.3158\n",
      "Epoch 37/150\n",
      "3/3 [==============================] - 0s 19ms/step - loss: 1.5359 - accuracy: 0.5200 - val_loss: 2.0013 - val_accuracy: 0.3158\n",
      "Epoch 38/150\n",
      "3/3 [==============================] - 0s 16ms/step - loss: 1.5268 - accuracy: 0.5067 - val_loss: 1.9548 - val_accuracy: 0.3684\n",
      "Epoch 39/150\n",
      "3/3 [==============================] - 0s 15ms/step - loss: 1.5315 - accuracy: 0.4667 - val_loss: 1.9322 - val_accuracy: 0.4211\n",
      "Epoch 40/150\n",
      "3/3 [==============================] - 0s 17ms/step - loss: 1.5141 - accuracy: 0.5200 - val_loss: 1.9053 - val_accuracy: 0.4211\n",
      "Epoch 41/150\n",
      "3/3 [==============================] - 0s 16ms/step - loss: 1.5457 - accuracy: 0.4933 - val_loss: 1.9068 - val_accuracy: 0.4211\n",
      "Epoch 42/150\n",
      "3/3 [==============================] - 0s 16ms/step - loss: 1.2234 - accuracy: 0.6533 - val_loss: 1.9888 - val_accuracy: 0.2632\n",
      "Epoch 43/150\n",
      "3/3 [==============================] - 0s 16ms/step - loss: 1.4276 - accuracy: 0.5333 - val_loss: 1.8983 - val_accuracy: 0.3158\n",
      "Epoch 44/150\n",
      "3/3 [==============================] - 0s 16ms/step - loss: 1.2578 - accuracy: 0.6000 - val_loss: 1.8355 - val_accuracy: 0.4737\n",
      "Epoch 45/150\n",
      "3/3 [==============================] - 0s 16ms/step - loss: 1.2814 - accuracy: 0.5733 - val_loss: 1.8660 - val_accuracy: 0.4737\n",
      "Epoch 46/150\n",
      "3/3 [==============================] - 0s 16ms/step - loss: 1.3381 - accuracy: 0.5333 - val_loss: 1.8437 - val_accuracy: 0.4211\n",
      "Epoch 47/150\n",
      "3/3 [==============================] - 0s 16ms/step - loss: 1.3025 - accuracy: 0.5600 - val_loss: 1.7615 - val_accuracy: 0.4737\n",
      "Epoch 48/150\n",
      "3/3 [==============================] - 0s 16ms/step - loss: 1.0517 - accuracy: 0.7467 - val_loss: 1.7523 - val_accuracy: 0.5263\n",
      "Epoch 49/150\n",
      "3/3 [==============================] - 0s 17ms/step - loss: 1.2072 - accuracy: 0.6000 - val_loss: 1.7291 - val_accuracy: 0.4211\n",
      "Epoch 50/150\n",
      "3/3 [==============================] - 0s 16ms/step - loss: 1.1245 - accuracy: 0.6667 - val_loss: 1.7516 - val_accuracy: 0.3684\n",
      "Epoch 51/150\n",
      "3/3 [==============================] - 0s 16ms/step - loss: 1.1134 - accuracy: 0.5867 - val_loss: 1.7030 - val_accuracy: 0.4211\n",
      "Epoch 52/150\n",
      "3/3 [==============================] - 0s 16ms/step - loss: 0.9987 - accuracy: 0.6133 - val_loss: 1.6568 - val_accuracy: 0.4737\n",
      "Epoch 53/150\n",
      "3/3 [==============================] - 0s 17ms/step - loss: 0.9428 - accuracy: 0.6667 - val_loss: 1.5975 - val_accuracy: 0.5263\n",
      "Epoch 54/150\n",
      "3/3 [==============================] - 0s 19ms/step - loss: 1.0382 - accuracy: 0.7200 - val_loss: 1.5540 - val_accuracy: 0.5263\n",
      "Epoch 55/150\n",
      "3/3 [==============================] - 0s 15ms/step - loss: 0.9224 - accuracy: 0.7333 - val_loss: 1.7095 - val_accuracy: 0.4211\n",
      "Epoch 56/150\n",
      "3/3 [==============================] - 0s 16ms/step - loss: 0.9306 - accuracy: 0.6800 - val_loss: 1.6276 - val_accuracy: 0.4737\n",
      "Epoch 57/150\n",
      "3/3 [==============================] - 0s 17ms/step - loss: 0.8769 - accuracy: 0.7200 - val_loss: 1.5696 - val_accuracy: 0.5263\n",
      "Epoch 58/150\n",
      "3/3 [==============================] - 0s 14ms/step - loss: 0.9710 - accuracy: 0.7200 - val_loss: 1.5370 - val_accuracy: 0.6316\n",
      "Epoch 59/150\n",
      "3/3 [==============================] - 0s 16ms/step - loss: 0.9400 - accuracy: 0.7333 - val_loss: 1.5868 - val_accuracy: 0.4211\n",
      "Epoch 60/150\n",
      "3/3 [==============================] - 0s 16ms/step - loss: 0.7935 - accuracy: 0.7200 - val_loss: 1.5879 - val_accuracy: 0.4737\n",
      "Epoch 61/150\n",
      "3/3 [==============================] - 0s 14ms/step - loss: 0.8111 - accuracy: 0.7200 - val_loss: 1.5293 - val_accuracy: 0.5263\n",
      "Epoch 62/150\n",
      "3/3 [==============================] - 0s 17ms/step - loss: 0.8364 - accuracy: 0.7600 - val_loss: 1.5050 - val_accuracy: 0.5789\n",
      "Epoch 63/150\n",
      "3/3 [==============================] - 0s 15ms/step - loss: 0.6823 - accuracy: 0.8133 - val_loss: 1.5149 - val_accuracy: 0.5263\n",
      "Epoch 64/150\n",
      "3/3 [==============================] - 0s 15ms/step - loss: 0.8972 - accuracy: 0.7600 - val_loss: 1.4949 - val_accuracy: 0.5263\n",
      "Epoch 65/150\n",
      "3/3 [==============================] - 0s 14ms/step - loss: 0.7529 - accuracy: 0.7600 - val_loss: 1.5193 - val_accuracy: 0.5263\n",
      "Epoch 66/150\n",
      "3/3 [==============================] - 0s 15ms/step - loss: 0.6776 - accuracy: 0.7733 - val_loss: 1.4333 - val_accuracy: 0.6316\n",
      "Epoch 67/150\n",
      "3/3 [==============================] - 0s 16ms/step - loss: 0.7656 - accuracy: 0.7333 - val_loss: 1.4279 - val_accuracy: 0.4737\n",
      "Epoch 68/150\n",
      "3/3 [==============================] - 0s 15ms/step - loss: 0.7100 - accuracy: 0.8133 - val_loss: 1.4543 - val_accuracy: 0.4211\n",
      "Epoch 69/150\n",
      "3/3 [==============================] - 0s 15ms/step - loss: 0.7341 - accuracy: 0.7467 - val_loss: 1.4371 - val_accuracy: 0.4211\n",
      "Epoch 70/150\n",
      "3/3 [==============================] - 0s 15ms/step - loss: 0.6227 - accuracy: 0.7867 - val_loss: 1.3872 - val_accuracy: 0.6316\n",
      "Epoch 71/150\n",
      "3/3 [==============================] - 0s 14ms/step - loss: 0.7189 - accuracy: 0.7867 - val_loss: 1.3991 - val_accuracy: 0.6842\n",
      "Epoch 72/150\n",
      "3/3 [==============================] - 0s 15ms/step - loss: 0.6902 - accuracy: 0.8133 - val_loss: 1.4106 - val_accuracy: 0.5789\n",
      "Epoch 73/150\n",
      "3/3 [==============================] - 0s 16ms/step - loss: 0.6408 - accuracy: 0.8400 - val_loss: 1.4553 - val_accuracy: 0.4737\n",
      "Epoch 74/150\n",
      "3/3 [==============================] - 0s 16ms/step - loss: 0.7001 - accuracy: 0.7333 - val_loss: 1.5461 - val_accuracy: 0.4211\n",
      "Epoch 75/150\n",
      "3/3 [==============================] - 0s 14ms/step - loss: 0.6463 - accuracy: 0.8267 - val_loss: 1.5420 - val_accuracy: 0.4211\n",
      "Epoch 76/150\n",
      "3/3 [==============================] - 0s 14ms/step - loss: 0.5563 - accuracy: 0.8400 - val_loss: 1.4583 - val_accuracy: 0.4737\n",
      "Epoch 77/150\n",
      "3/3 [==============================] - 0s 16ms/step - loss: 0.6231 - accuracy: 0.8267 - val_loss: 1.5890 - val_accuracy: 0.4211\n",
      "Epoch 78/150\n",
      "3/3 [==============================] - 0s 16ms/step - loss: 0.6013 - accuracy: 0.7867 - val_loss: 1.4007 - val_accuracy: 0.6842\n",
      "Epoch 79/150\n",
      "3/3 [==============================] - 0s 14ms/step - loss: 0.6016 - accuracy: 0.8133 - val_loss: 1.4867 - val_accuracy: 0.5263\n",
      "Epoch 80/150\n",
      "3/3 [==============================] - 0s 15ms/step - loss: 0.7231 - accuracy: 0.7600 - val_loss: 1.4487 - val_accuracy: 0.5789\n",
      "Epoch 81/150\n",
      "3/3 [==============================] - 0s 33ms/step - loss: 0.5940 - accuracy: 0.7867 - val_loss: 1.4946 - val_accuracy: 0.4737\n",
      "Epoch 82/150\n",
      "3/3 [==============================] - 0s 16ms/step - loss: 0.5519 - accuracy: 0.8400 - val_loss: 1.4901 - val_accuracy: 0.4737\n",
      "Epoch 83/150\n",
      "3/3 [==============================] - 0s 17ms/step - loss: 0.4590 - accuracy: 0.8800 - val_loss: 1.5167 - val_accuracy: 0.4737\n",
      "Epoch 84/150\n",
      "3/3 [==============================] - 0s 16ms/step - loss: 0.6330 - accuracy: 0.8000 - val_loss: 1.3892 - val_accuracy: 0.5263\n",
      "Epoch 85/150\n",
      "3/3 [==============================] - 0s 16ms/step - loss: 0.5452 - accuracy: 0.8400 - val_loss: 1.3731 - val_accuracy: 0.6316\n",
      "Epoch 86/150\n",
      "3/3 [==============================] - 0s 21ms/step - loss: 0.5253 - accuracy: 0.8400 - val_loss: 1.4718 - val_accuracy: 0.5263\n",
      "Epoch 87/150\n",
      "3/3 [==============================] - 0s 17ms/step - loss: 0.5318 - accuracy: 0.8267 - val_loss: 1.3696 - val_accuracy: 0.5263\n",
      "Epoch 88/150\n",
      "3/3 [==============================] - 0s 17ms/step - loss: 0.5002 - accuracy: 0.8667 - val_loss: 1.3086 - val_accuracy: 0.6842\n",
      "Epoch 89/150\n",
      "3/3 [==============================] - 0s 16ms/step - loss: 0.5014 - accuracy: 0.8000 - val_loss: 1.3412 - val_accuracy: 0.5789\n",
      "Epoch 90/150\n",
      "3/3 [==============================] - 0s 16ms/step - loss: 0.4360 - accuracy: 0.8533 - val_loss: 1.3639 - val_accuracy: 0.5263\n",
      "Epoch 91/150\n",
      "3/3 [==============================] - 0s 16ms/step - loss: 0.4570 - accuracy: 0.8667 - val_loss: 1.3383 - val_accuracy: 0.5789\n",
      "Epoch 92/150\n",
      "3/3 [==============================] - 0s 18ms/step - loss: 0.5213 - accuracy: 0.8267 - val_loss: 1.3777 - val_accuracy: 0.5263\n",
      "Epoch 93/150\n",
      "3/3 [==============================] - 0s 16ms/step - loss: 0.5437 - accuracy: 0.8267 - val_loss: 1.4211 - val_accuracy: 0.5263\n",
      "Epoch 94/150\n",
      "3/3 [==============================] - 0s 18ms/step - loss: 0.4819 - accuracy: 0.8667 - val_loss: 1.4727 - val_accuracy: 0.4211\n",
      "Epoch 95/150\n",
      "3/3 [==============================] - 0s 15ms/step - loss: 0.5141 - accuracy: 0.8400 - val_loss: 1.3771 - val_accuracy: 0.5263\n",
      "Epoch 96/150\n",
      "3/3 [==============================] - 0s 16ms/step - loss: 0.5688 - accuracy: 0.8533 - val_loss: 1.3004 - val_accuracy: 0.6316\n",
      "Epoch 97/150\n",
      "3/3 [==============================] - 0s 15ms/step - loss: 0.4622 - accuracy: 0.8667 - val_loss: 1.2957 - val_accuracy: 0.6316\n",
      "Epoch 98/150\n",
      "3/3 [==============================] - 0s 16ms/step - loss: 0.4990 - accuracy: 0.8533 - val_loss: 1.3277 - val_accuracy: 0.5789\n",
      "Epoch 99/150\n",
      "3/3 [==============================] - 0s 17ms/step - loss: 0.3882 - accuracy: 0.8533 - val_loss: 1.3338 - val_accuracy: 0.4737\n",
      "Epoch 100/150\n",
      "3/3 [==============================] - 0s 15ms/step - loss: 0.4803 - accuracy: 0.8533 - val_loss: 1.3445 - val_accuracy: 0.4737\n",
      "Epoch 101/150\n",
      "3/3 [==============================] - 0s 16ms/step - loss: 0.3831 - accuracy: 0.9067 - val_loss: 1.3152 - val_accuracy: 0.5789\n",
      "Epoch 102/150\n",
      "3/3 [==============================] - 0s 15ms/step - loss: 0.4769 - accuracy: 0.8400 - val_loss: 1.3477 - val_accuracy: 0.5789\n",
      "Epoch 103/150\n",
      "3/3 [==============================] - 0s 16ms/step - loss: 0.3664 - accuracy: 0.8800 - val_loss: 1.3056 - val_accuracy: 0.6842\n",
      "Epoch 104/150\n",
      "3/3 [==============================] - 0s 17ms/step - loss: 0.4258 - accuracy: 0.8533 - val_loss: 1.2792 - val_accuracy: 0.6842\n",
      "Epoch 105/150\n",
      "3/3 [==============================] - 0s 15ms/step - loss: 0.3804 - accuracy: 0.8533 - val_loss: 1.3140 - val_accuracy: 0.6316\n",
      "Epoch 106/150\n",
      "3/3 [==============================] - 0s 17ms/step - loss: 0.4159 - accuracy: 0.8933 - val_loss: 1.4273 - val_accuracy: 0.5263\n",
      "Epoch 107/150\n",
      "3/3 [==============================] - 0s 16ms/step - loss: 0.4195 - accuracy: 0.8800 - val_loss: 1.3195 - val_accuracy: 0.5789\n",
      "Epoch 108/150\n",
      "3/3 [==============================] - 0s 17ms/step - loss: 0.4028 - accuracy: 0.8933 - val_loss: 1.2211 - val_accuracy: 0.7368\n",
      "Epoch 109/150\n",
      "3/3 [==============================] - 0s 21ms/step - loss: 0.2712 - accuracy: 0.9600 - val_loss: 1.2382 - val_accuracy: 0.7368\n",
      "Epoch 110/150\n",
      "3/3 [==============================] - 0s 16ms/step - loss: 0.3878 - accuracy: 0.8800 - val_loss: 1.4019 - val_accuracy: 0.5263\n",
      "Epoch 111/150\n",
      "3/3 [==============================] - 0s 17ms/step - loss: 0.2654 - accuracy: 0.8933 - val_loss: 1.4997 - val_accuracy: 0.4211\n",
      "Epoch 112/150\n",
      "3/3 [==============================] - 0s 16ms/step - loss: 0.4383 - accuracy: 0.8533 - val_loss: 1.3880 - val_accuracy: 0.5263\n",
      "Epoch 113/150\n",
      "3/3 [==============================] - 0s 16ms/step - loss: 0.3590 - accuracy: 0.8533 - val_loss: 1.2269 - val_accuracy: 0.7895\n",
      "Epoch 114/150\n",
      "3/3 [==============================] - 0s 17ms/step - loss: 0.4596 - accuracy: 0.8400 - val_loss: 1.2294 - val_accuracy: 0.7368\n",
      "Epoch 115/150\n",
      "3/3 [==============================] - 0s 16ms/step - loss: 0.4799 - accuracy: 0.8000 - val_loss: 1.3101 - val_accuracy: 0.5789\n",
      "Epoch 116/150\n",
      "3/3 [==============================] - 0s 16ms/step - loss: 0.3873 - accuracy: 0.9067 - val_loss: 1.4145 - val_accuracy: 0.5263\n",
      "Epoch 117/150\n"
     ]
    },
    {
     "name": "stdout",
     "output_type": "stream",
     "text": [
      "3/3 [==============================] - 0s 17ms/step - loss: 0.3208 - accuracy: 0.8933 - val_loss: 1.4213 - val_accuracy: 0.5263\n",
      "Epoch 118/150\n",
      "3/3 [==============================] - 0s 14ms/step - loss: 0.3036 - accuracy: 0.9333 - val_loss: 1.2757 - val_accuracy: 0.6316\n",
      "Epoch 119/150\n",
      "3/3 [==============================] - 0s 16ms/step - loss: 0.2778 - accuracy: 0.9200 - val_loss: 1.2551 - val_accuracy: 0.6316\n",
      "Epoch 120/150\n",
      "3/3 [==============================] - 0s 14ms/step - loss: 0.2696 - accuracy: 0.9200 - val_loss: 1.3447 - val_accuracy: 0.5789\n",
      "Epoch 121/150\n",
      "3/3 [==============================] - 0s 15ms/step - loss: 0.2863 - accuracy: 0.9467 - val_loss: 1.4277 - val_accuracy: 0.5263\n",
      "Epoch 122/150\n",
      "3/3 [==============================] - 0s 16ms/step - loss: 0.3766 - accuracy: 0.8800 - val_loss: 1.5072 - val_accuracy: 0.5263\n",
      "Epoch 123/150\n",
      "3/3 [==============================] - 0s 14ms/step - loss: 0.3389 - accuracy: 0.8667 - val_loss: 1.5379 - val_accuracy: 0.5263\n",
      "Epoch 124/150\n",
      "3/3 [==============================] - 0s 16ms/step - loss: 0.4636 - accuracy: 0.8133 - val_loss: 1.2554 - val_accuracy: 0.6842\n",
      "Epoch 125/150\n",
      "3/3 [==============================] - 0s 17ms/step - loss: 0.4067 - accuracy: 0.8933 - val_loss: 1.1682 - val_accuracy: 0.6842\n",
      "Epoch 126/150\n",
      "3/3 [==============================] - 0s 16ms/step - loss: 0.3327 - accuracy: 0.9467 - val_loss: 1.2440 - val_accuracy: 0.6316\n",
      "Epoch 127/150\n",
      "3/3 [==============================] - 0s 16ms/step - loss: 0.3741 - accuracy: 0.8800 - val_loss: 1.3069 - val_accuracy: 0.5789\n",
      "Epoch 128/150\n",
      "3/3 [==============================] - 0s 15ms/step - loss: 0.4622 - accuracy: 0.8267 - val_loss: 1.3302 - val_accuracy: 0.5789\n",
      "Epoch 129/150\n",
      "3/3 [==============================] - 0s 17ms/step - loss: 0.3532 - accuracy: 0.8933 - val_loss: 1.4764 - val_accuracy: 0.5263\n",
      "Epoch 130/150\n",
      "3/3 [==============================] - 0s 14ms/step - loss: 0.5126 - accuracy: 0.8400 - val_loss: 1.4844 - val_accuracy: 0.4737\n",
      "Epoch 131/150\n",
      "3/3 [==============================] - 0s 15ms/step - loss: 0.3134 - accuracy: 0.9067 - val_loss: 1.3859 - val_accuracy: 0.5263\n",
      "Epoch 132/150\n",
      "3/3 [==============================] - 0s 16ms/step - loss: 0.3841 - accuracy: 0.8533 - val_loss: 1.3122 - val_accuracy: 0.6316\n",
      "Epoch 133/150\n",
      "3/3 [==============================] - 0s 15ms/step - loss: 0.3572 - accuracy: 0.8933 - val_loss: 1.3041 - val_accuracy: 0.6316\n",
      "Epoch 134/150\n",
      "3/3 [==============================] - 0s 16ms/step - loss: 0.2219 - accuracy: 0.9467 - val_loss: 1.2850 - val_accuracy: 0.6316\n",
      "Epoch 135/150\n",
      "3/3 [==============================] - 0s 20ms/step - loss: 0.3342 - accuracy: 0.8933 - val_loss: 1.3283 - val_accuracy: 0.6316\n",
      "Epoch 136/150\n",
      "3/3 [==============================] - 0s 19ms/step - loss: 0.2387 - accuracy: 0.9600 - val_loss: 1.3567 - val_accuracy: 0.6316\n",
      "Epoch 137/150\n",
      "3/3 [==============================] - 0s 14ms/step - loss: 0.2948 - accuracy: 0.9200 - val_loss: 1.3665 - val_accuracy: 0.5789\n",
      "Epoch 138/150\n",
      "3/3 [==============================] - 0s 17ms/step - loss: 0.3603 - accuracy: 0.8533 - val_loss: 1.3050 - val_accuracy: 0.6316\n",
      "Epoch 139/150\n",
      "3/3 [==============================] - 0s 17ms/step - loss: 0.2521 - accuracy: 0.9200 - val_loss: 1.2550 - val_accuracy: 0.6842\n",
      "Epoch 140/150\n",
      "3/3 [==============================] - 0s 15ms/step - loss: 0.3652 - accuracy: 0.8800 - val_loss: 1.2796 - val_accuracy: 0.7368\n",
      "Epoch 141/150\n",
      "3/3 [==============================] - 0s 16ms/step - loss: 0.2514 - accuracy: 0.9333 - val_loss: 1.2941 - val_accuracy: 0.6316\n",
      "Epoch 142/150\n",
      "3/3 [==============================] - 0s 23ms/step - loss: 0.2706 - accuracy: 0.8667 - val_loss: 1.3500 - val_accuracy: 0.5263\n",
      "Epoch 143/150\n",
      "3/3 [==============================] - 0s 22ms/step - loss: 0.2526 - accuracy: 0.9200 - val_loss: 1.4786 - val_accuracy: 0.5789\n",
      "Epoch 144/150\n",
      "3/3 [==============================] - 0s 16ms/step - loss: 0.2967 - accuracy: 0.8667 - val_loss: 1.3387 - val_accuracy: 0.5789\n",
      "Epoch 145/150\n",
      "3/3 [==============================] - 0s 15ms/step - loss: 0.3440 - accuracy: 0.8533 - val_loss: 1.2020 - val_accuracy: 0.6842\n",
      "Epoch 146/150\n",
      "3/3 [==============================] - 0s 15ms/step - loss: 0.2928 - accuracy: 0.8933 - val_loss: 1.1577 - val_accuracy: 0.7895\n",
      "Epoch 147/150\n",
      "3/3 [==============================] - 0s 16ms/step - loss: 0.2939 - accuracy: 0.9333 - val_loss: 1.1662 - val_accuracy: 0.6842\n",
      "Epoch 148/150\n",
      "3/3 [==============================] - 0s 16ms/step - loss: 0.2018 - accuracy: 0.9467 - val_loss: 1.2900 - val_accuracy: 0.6842\n",
      "Epoch 149/150\n",
      "3/3 [==============================] - 0s 14ms/step - loss: 0.2487 - accuracy: 0.9200 - val_loss: 1.3826 - val_accuracy: 0.6842\n",
      "Epoch 150/150\n",
      "3/3 [==============================] - 0s 14ms/step - loss: 0.2634 - accuracy: 0.9333 - val_loss: 1.2700 - val_accuracy: 0.6316\n"
     ]
    }
   ],
   "source": [
    "hist=model.fit(x_train,y_train,epochs=150,validation_data=(x_test,y_test))"
   ]
  },
  {
   "cell_type": "code",
   "execution_count": 25,
   "id": "287001ab",
   "metadata": {},
   "outputs": [],
   "source": [
    "model.save('models/model_chat.h5', hist)"
   ]
  },
  {
   "cell_type": "code",
   "execution_count": 26,
   "id": "8c5ab658",
   "metadata": {},
   "outputs": [],
   "source": [
    "from sklearn.metrics import classification_report"
   ]
  },
  {
   "cell_type": "code",
   "execution_count": 27,
   "id": "66c73e89",
   "metadata": {},
   "outputs": [
    {
     "data": {
      "image/png": "[encoded data removed]",
      "text/plain": [
       "<Figure size 432x288 with 1 Axes>"
      ]
     },
     "metadata": {
      "needs_background": "light"
     },
     "output_type": "display_data"
    }
   ],
   "source": [
    "plt.plot(hist.history['accuracy'],c='b',label='train')\n",
    "plt.plot(hist.history['val_accuracy'],c='r',label='validation')\n",
    "plt.title('Training and validation accuracy')\n",
    "plt.legend(loc='lower right')\n",
    "plt.show()"
   ]
  },
  {
   "cell_type": "code",
   "execution_count": 28,
   "id": "9559c962",
   "metadata": {},
   "outputs": [
    {
     "data": {
      "image/png": "[encoded data removed]",
      "text/plain": [
       "<Figure size 432x288 with 1 Axes>"
      ]
     },
     "metadata": {
      "needs_background": "light"
     },
     "output_type": "display_data"
    }
   ],
   "source": [
    "plt.plot(hist.history['loss'],c='orange',label='train')\n",
    "plt.plot(hist.history['val_loss'],c='g',label='validation')\n",
    "plt.title('Training and validation loss')\n",
    "plt.legend(loc='upper right')\n",
    "plt.show()"
   ]
  },
  {
   "cell_type": "code",
   "execution_count": 29,
   "id": "fccfc646",
   "metadata": {},
   "outputs": [
    {
     "name": "stdout",
     "output_type": "stream",
     "text": [
      "1/1 [==============================] - 0s 18ms/step - loss: 1.2700 - accuracy: 0.6316\n"
     ]
    },
    {
     "data": {
      "text/plain": [
       "[1.2700494527816772, 0.6315789222717285]"
      ]
     },
     "execution_count": 29,
     "metadata": {},
     "output_type": "execute_result"
    }
   ],
   "source": [
    "model.evaluate(x_test,y_test)"
   ]
  },
  {
   "cell_type": "code",
   "execution_count": 30,
   "id": "fd7c8308",
   "metadata": {},
   "outputs": [],
   "source": [
    "y_test_true = y_test_lb\n",
    "y_test_pred = np.argmax(model.predict(x_test), axis=1)"
   ]
  },
  {
   "cell_type": "code",
   "execution_count": 31,
   "id": "05a5ef2d",
   "metadata": {},
   "outputs": [
    {
     "data": {
      "text/plain": [
       "array([ 0,  4, 14, 15,  6, 13,  2, 12,  3,  0, 10,  2,  7, 11,  3,  6,  8,\n",
       "       13,  9])"
      ]
     },
     "execution_count": 31,
     "metadata": {},
     "output_type": "execute_result"
    }
   ],
   "source": [
    "y_test_true"
   ]
  },
  {
   "cell_type": "code",
   "execution_count": 32,
   "id": "28b4a25e",
   "metadata": {},
   "outputs": [
    {
     "data": {
      "text/plain": [
       "array([ 0,  4, 15,  6,  6, 13,  2, 11,  3,  8, 10,  2,  1, 11,  3,  6, 10,\n",
       "        5,  9])"
      ]
     },
     "execution_count": 32,
     "metadata": {},
     "output_type": "execute_result"
    }
   ],
   "source": [
    "y_test_pred"
   ]
  },
  {
   "cell_type": "code",
   "execution_count": 33,
   "id": "d403ea23",
   "metadata": {},
   "outputs": [
    {
     "name": "stdout",
     "output_type": "stream",
     "text": [
      "              precision    recall  f1-score   support\n",
      "\n",
      "           0       1.00      0.50      0.67         2\n",
      "           1       0.00      0.00      0.00         0\n",
      "           2       1.00      1.00      1.00         2\n",
      "           3       1.00      1.00      1.00         2\n",
      "           4       1.00      1.00      1.00         1\n",
      "           5       0.00      0.00      0.00         0\n",
      "           6       0.67      1.00      0.80         2\n",
      "           7       0.00      0.00      0.00         1\n",
      "           8       0.00      0.00      0.00         1\n",
      "           9       1.00      1.00      1.00         1\n",
      "          10       0.50      1.00      0.67         1\n",
      "          11       0.50      1.00      0.67         1\n",
      "          12       0.00      0.00      0.00         1\n",
      "          13       1.00      0.50      0.67         2\n",
      "          14       0.00      0.00      0.00         1\n",
      "          15       0.00      0.00      0.00         1\n",
      "\n",
      "    accuracy                           0.63        19\n",
      "   macro avg       0.48      0.50      0.47        19\n",
      "weighted avg       0.65      0.63      0.61        19\n",
      "\n"
     ]
    }
   ],
   "source": [
    "from sklearn import metrics\n",
    "print(metrics.classification_report(y_test_true, y_test_pred))"
   ]
  },
  {
   "cell_type": "code",
   "execution_count": null,
   "id": "9c406bf6",
   "metadata": {},
   "outputs": [],
   "source": []
  },
  {
   "cell_type": "code",
   "execution_count": null,
   "id": "0f223528",
   "metadata": {},
   "outputs": [],
   "source": []
  }
 ],
 "metadata": {
  "kernelspec": {
   "display_name": "Python 3 (ipykernel)",
   "language": "python",
   "name": "python3"
  },
  "language_info": {
   "codemirror_mode": {
    "name": "ipython",
    "version": 3
   },
   "file_extension": ".py",
   "mimetype": "text/x-python",
   "name": "python",
   "nbconvert_exporter": "python",
   "pygments_lexer": "ipython3",
   "version": "3.8.11"
  }
 },
 "nbformat": 4,
 "nbformat_minor": 5
}
