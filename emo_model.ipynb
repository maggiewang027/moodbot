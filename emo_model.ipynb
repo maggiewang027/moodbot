{
 "cells": [
  {
   "cell_type": "code",
   "execution_count": 1,
   "id": "20080d90",
   "metadata": {},
   "outputs": [],
   "source": [
    "import pandas as pd\n",
    "import numpy as np\n",
    "import seaborn as sns\n",
    "import matplotlib.pyplot as plt\n",
    "import pickle"
   ]
  },
  {
   "cell_type": "code",
   "execution_count": 2,
   "id": "5505b370",
   "metadata": {},
   "outputs": [],
   "source": [
    "# load the datasets\n",
    "train_data = pd.read_csv('data/train.txt', header=None, sep=';', names=['Text', 'Emotion'], encoding='utf-8')\n",
    "test_data = pd.read_csv('data/test.txt', header=None, sep=';', names=['Text', 'Emotion'], encoding='utf-8')\n",
    "val_data = pd.read_csv('data/val.txt', header=None, sep=';', names=['Text', 'Emotion'], encoding='utf-8')"
   ]
  },
  {
   "cell_type": "code",
   "execution_count": 3,
   "id": "45ed883d",
   "metadata": {},
   "outputs": [
    {
     "name": "stdout",
     "output_type": "stream",
     "text": [
      "Train data:  (16000, 2)\n",
      "Test data:  (2000, 2)\n",
      "Validation data:  (2000, 2)\n"
     ]
    }
   ],
   "source": [
    "# check the shape of the datasets\n",
    "print('Train data: ', train_data.shape)\n",
    "print('Test data: ', test_data.shape)\n",
    "print('Validation data: ', val_data.shape)"
   ]
  },
  {
   "cell_type": "code",
   "execution_count": 4,
   "id": "03468b43",
   "metadata": {},
   "outputs": [
    {
     "name": "stdout",
     "output_type": "stream",
     "text": [
      "Text       0\n",
      "Emotion    0\n",
      "dtype: int64\n",
      "Text       0\n",
      "Emotion    0\n",
      "dtype: int64\n",
      "Text       0\n",
      "Emotion    0\n",
      "dtype: int64\n"
     ]
    }
   ],
   "source": [
    "# check the empty value\n",
    "print(train_data.isnull().sum())\n",
    "print(test_data.isnull().sum())\n",
    "print(val_data.isnull().sum())"
   ]
  },
  {
   "cell_type": "code",
   "execution_count": 5,
   "id": "87896e4f",
   "metadata": {},
   "outputs": [
    {
     "data": {
      "text/html": [
       "<div>\n",
       "<style scoped>\n",
       "    .dataframe tbody tr th:only-of-type {\n",
       "        vertical-align: middle;\n",
       "    }\n",
       "\n",
       "    .dataframe tbody tr th {\n",
       "        vertical-align: top;\n",
       "    }\n",
       "\n",
       "    .dataframe thead th {\n",
       "        text-align: right;\n",
       "    }\n",
       "</style>\n",
       "<table border=\"1\" class=\"dataframe\">\n",
       "  <thead>\n",
       "    <tr style=\"text-align: right;\">\n",
       "      <th></th>\n",
       "      <th>Text</th>\n",
       "      <th>Emotion</th>\n",
       "    </tr>\n",
       "  </thead>\n",
       "  <tbody>\n",
       "    <tr>\n",
       "      <th>0</th>\n",
       "      <td>i didnt feel humiliated</td>\n",
       "      <td>sadness</td>\n",
       "    </tr>\n",
       "    <tr>\n",
       "      <th>1</th>\n",
       "      <td>i can go from feeling so hopeless to so damned...</td>\n",
       "      <td>sadness</td>\n",
       "    </tr>\n",
       "    <tr>\n",
       "      <th>2</th>\n",
       "      <td>im grabbing a minute to post i feel greedy wrong</td>\n",
       "      <td>anger</td>\n",
       "    </tr>\n",
       "    <tr>\n",
       "      <th>3</th>\n",
       "      <td>i am ever feeling nostalgic about the fireplac...</td>\n",
       "      <td>love</td>\n",
       "    </tr>\n",
       "    <tr>\n",
       "      <th>4</th>\n",
       "      <td>i am feeling grouchy</td>\n",
       "      <td>anger</td>\n",
       "    </tr>\n",
       "  </tbody>\n",
       "</table>\n",
       "</div>"
      ],
      "text/plain": [
       "                                                Text  Emotion\n",
       "0                            i didnt feel humiliated  sadness\n",
       "1  i can go from feeling so hopeless to so damned...  sadness\n",
       "2   im grabbing a minute to post i feel greedy wrong    anger\n",
       "3  i am ever feeling nostalgic about the fireplac...     love\n",
       "4                               i am feeling grouchy    anger"
      ]
     },
     "execution_count": 5,
     "metadata": {},
     "output_type": "execute_result"
    }
   ],
   "source": [
    "train_data.head()"
   ]
  },
  {
   "cell_type": "code",
   "execution_count": 21,
   "id": "8ae5f2ca",
   "metadata": {},
   "outputs": [
    {
     "data": {
      "image/png": "[encoded data removed]",
      "text/plain": [
       "<Figure size 2160x1080 with 3 Axes>"
      ]
     },
     "metadata": {
      "needs_background": "light"
     },
     "output_type": "display_data"
    }
   ],
   "source": [
    "# draw a countplot of training, validation and testing data\n",
    "all_data = {'Train':train_data,'Validation':val_data,'Test':test_data}\n",
    "emo_order = ['sadness','anger','fear','joy','love','surprise']\n",
    "fig, ax = plt.subplots(1,3, figsize=(30,15))\n",
    "for i, df in enumerate(all_data.values()):\n",
    "    figs = sns.countplot(data=df,x='Emotion',ax=ax[i],palette='Set3',order=emo_order)\n",
    "    figs.set_xticklabels(figs.get_xticklabels(), rotation=45)\n",
    "plt.show()"
   ]
  },
  {
   "cell_type": "markdown",
   "id": "27e7c95c",
   "metadata": {},
   "source": [
    "Data Pre-processing"
   ]
  },
  {
   "cell_type": "code",
   "execution_count": 6,
   "id": "ab4b30c1",
   "metadata": {},
   "outputs": [],
   "source": [
    "from sklearn.preprocessing import LabelEncoder\n",
    "lb = LabelEncoder()\n",
    "from tensorflow.keras.utils import to_categorical\n",
    "from tensorflow.keras.preprocessing.text import Tokenizer\n",
    "from tensorflow.keras.preprocessing.sequence import pad_sequences\n",
    "import re \n",
    "import nltk\n",
    "#nltk.download('stopwords')\n",
    "#nltk.download('wordnet')\n",
    "from nltk.corpus import stopwords\n",
    "stop_words = stopwords.words('english')\n",
    "from nltk.stem import WordNetLemmatizer\n",
    "lemmatizer = WordNetLemmatizer()\n",
    "\n",
    "import warnings\n",
    "warnings.filterwarnings('ignore')"
   ]
  },
  {
   "cell_type": "code",
   "execution_count": 7,
   "id": "b6693d17",
   "metadata": {},
   "outputs": [],
   "source": [
    "def preprocess(text):\n",
    "    lemmatizer = WordNetLemmatizer()\n",
    "    text = re.sub('[^a-zA-Z]', ' ', text) # punctuation removal\n",
    "    text = text.lower() # convert to lowercase\n",
    "    words = text.split()\n",
    "    words = [w for w in words if not w in stop_words] # removing stopwords\n",
    "    # lemmatizing\n",
    "    words = [lemmatizer.lemmatize(w) for w in words]\n",
    "    return \" \".join(words)"
   ]
  },
  {
   "cell_type": "code",
   "execution_count": 8,
   "id": "956e16f4",
   "metadata": {},
   "outputs": [],
   "source": [
    "# preprocess on train data\n",
    "train_data['Clean_Text'] = train_data['Text'].apply(preprocess)\n",
    "train_data['Label_Emotion'] = lb.fit_transform(train_data['Emotion'])\n",
    "train_data['Length'] = [len(x.split()) for x in train_data['Clean_Text']]"
   ]
  },
  {
   "cell_type": "code",
   "execution_count": 9,
   "id": "757acc1f",
   "metadata": {},
   "outputs": [
    {
     "data": {
      "text/html": [
       "<div>\n",
       "<style scoped>\n",
       "    .dataframe tbody tr th:only-of-type {\n",
       "        vertical-align: middle;\n",
       "    }\n",
       "\n",
       "    .dataframe tbody tr th {\n",
       "        vertical-align: top;\n",
       "    }\n",
       "\n",
       "    .dataframe thead th {\n",
       "        text-align: right;\n",
       "    }\n",
       "</style>\n",
       "<table border=\"1\" class=\"dataframe\">\n",
       "  <thead>\n",
       "    <tr style=\"text-align: right;\">\n",
       "      <th></th>\n",
       "      <th>Text</th>\n",
       "      <th>Emotion</th>\n",
       "      <th>Clean_Text</th>\n",
       "      <th>Label_Emotion</th>\n",
       "      <th>Length</th>\n",
       "    </tr>\n",
       "  </thead>\n",
       "  <tbody>\n",
       "    <tr>\n",
       "      <th>0</th>\n",
       "      <td>i didnt feel humiliated</td>\n",
       "      <td>sadness</td>\n",
       "      <td>didnt feel humiliated</td>\n",
       "      <td>4</td>\n",
       "      <td>3</td>\n",
       "    </tr>\n",
       "    <tr>\n",
       "      <th>1</th>\n",
       "      <td>i can go from feeling so hopeless to so damned...</td>\n",
       "      <td>sadness</td>\n",
       "      <td>go feeling hopeless damned hopeful around some...</td>\n",
       "      <td>4</td>\n",
       "      <td>9</td>\n",
       "    </tr>\n",
       "    <tr>\n",
       "      <th>2</th>\n",
       "      <td>im grabbing a minute to post i feel greedy wrong</td>\n",
       "      <td>anger</td>\n",
       "      <td>im grabbing minute post feel greedy wrong</td>\n",
       "      <td>0</td>\n",
       "      <td>7</td>\n",
       "    </tr>\n",
       "    <tr>\n",
       "      <th>3</th>\n",
       "      <td>i am ever feeling nostalgic about the fireplac...</td>\n",
       "      <td>love</td>\n",
       "      <td>ever feeling nostalgic fireplace know still pr...</td>\n",
       "      <td>3</td>\n",
       "      <td>7</td>\n",
       "    </tr>\n",
       "    <tr>\n",
       "      <th>4</th>\n",
       "      <td>i am feeling grouchy</td>\n",
       "      <td>anger</td>\n",
       "      <td>feeling grouchy</td>\n",
       "      <td>0</td>\n",
       "      <td>2</td>\n",
       "    </tr>\n",
       "  </tbody>\n",
       "</table>\n",
       "</div>"
      ],
      "text/plain": [
       "                                                Text  Emotion  \\\n",
       "0                            i didnt feel humiliated  sadness   \n",
       "1  i can go from feeling so hopeless to so damned...  sadness   \n",
       "2   im grabbing a minute to post i feel greedy wrong    anger   \n",
       "3  i am ever feeling nostalgic about the fireplac...     love   \n",
       "4                               i am feeling grouchy    anger   \n",
       "\n",
       "                                          Clean_Text  Label_Emotion  Length  \n",
       "0                              didnt feel humiliated              4       3  \n",
       "1  go feeling hopeless damned hopeful around some...              4       9  \n",
       "2          im grabbing minute post feel greedy wrong              0       7  \n",
       "3  ever feeling nostalgic fireplace know still pr...              3       7  \n",
       "4                                    feeling grouchy              0       2  "
      ]
     },
     "execution_count": 9,
     "metadata": {},
     "output_type": "execute_result"
    }
   ],
   "source": [
    "train_data.head()"
   ]
  },
  {
   "cell_type": "code",
   "execution_count": 10,
   "id": "2f48c9f3",
   "metadata": {},
   "outputs": [
    {
     "data": {
      "text/plain": [
       "count    16000.000000\n",
       "mean         9.353063\n",
       "std          5.213083\n",
       "min          1.000000\n",
       "25%          5.000000\n",
       "50%          8.000000\n",
       "75%         12.000000\n",
       "max         35.000000\n",
       "Name: Length, dtype: float64"
      ]
     },
     "execution_count": 10,
     "metadata": {},
     "output_type": "execute_result"
    }
   ],
   "source": [
    "train_data['Length'].describe()"
   ]
  },
  {
   "cell_type": "code",
   "execution_count": 11,
   "id": "8633e508",
   "metadata": {},
   "outputs": [
    {
     "data": {
      "text/plain": [
       "<AxesSubplot:xlabel='Length', ylabel='Count'>"
      ]
     },
     "execution_count": 11,
     "metadata": {},
     "output_type": "execute_result"
    },
    {
     "data": {
      "image/png": "[encoded data removed]",
      "text/plain": [
       "<Figure size 432x288 with 1 Axes>"
      ]
     },
     "metadata": {
      "needs_background": "light"
     },
     "output_type": "display_data"
    }
   ],
   "source": [
    "sns.histplot(x=train_data['Length'], hue=train_data['Emotion'])"
   ]
  },
  {
   "cell_type": "code",
   "execution_count": 12,
   "id": "e02ce2c4",
   "metadata": {},
   "outputs": [],
   "source": [
    "# preprocess on validation data\n",
    "val_data['Clean_Text'] = val_data['Text'].apply(preprocess)\n",
    "val_data['Label_Emotion'] = lb.fit_transform(val_data['Emotion'])\n",
    "val_data['Length'] = [len(x.split()) for x in val_data['Clean_Text']]"
   ]
  },
  {
   "cell_type": "code",
   "execution_count": 13,
   "id": "a709931b",
   "metadata": {},
   "outputs": [
    {
     "data": {
      "text/html": [
       "<div>\n",
       "<style scoped>\n",
       "    .dataframe tbody tr th:only-of-type {\n",
       "        vertical-align: middle;\n",
       "    }\n",
       "\n",
       "    .dataframe tbody tr th {\n",
       "        vertical-align: top;\n",
       "    }\n",
       "\n",
       "    .dataframe thead th {\n",
       "        text-align: right;\n",
       "    }\n",
       "</style>\n",
       "<table border=\"1\" class=\"dataframe\">\n",
       "  <thead>\n",
       "    <tr style=\"text-align: right;\">\n",
       "      <th></th>\n",
       "      <th>Text</th>\n",
       "      <th>Emotion</th>\n",
       "      <th>Clean_Text</th>\n",
       "      <th>Label_Emotion</th>\n",
       "      <th>Length</th>\n",
       "    </tr>\n",
       "  </thead>\n",
       "  <tbody>\n",
       "    <tr>\n",
       "      <th>0</th>\n",
       "      <td>im feeling quite sad and sorry for myself but ...</td>\n",
       "      <td>sadness</td>\n",
       "      <td>im feeling quite sad sorry ill snap soon</td>\n",
       "      <td>4</td>\n",
       "      <td>8</td>\n",
       "    </tr>\n",
       "    <tr>\n",
       "      <th>1</th>\n",
       "      <td>i feel like i am still looking at a blank canv...</td>\n",
       "      <td>sadness</td>\n",
       "      <td>feel like still looking blank canvas blank pie...</td>\n",
       "      <td>4</td>\n",
       "      <td>9</td>\n",
       "    </tr>\n",
       "    <tr>\n",
       "      <th>2</th>\n",
       "      <td>i feel like a faithful servant</td>\n",
       "      <td>love</td>\n",
       "      <td>feel like faithful servant</td>\n",
       "      <td>3</td>\n",
       "      <td>4</td>\n",
       "    </tr>\n",
       "    <tr>\n",
       "      <th>3</th>\n",
       "      <td>i am just feeling cranky and blue</td>\n",
       "      <td>anger</td>\n",
       "      <td>feeling cranky blue</td>\n",
       "      <td>0</td>\n",
       "      <td>3</td>\n",
       "    </tr>\n",
       "    <tr>\n",
       "      <th>4</th>\n",
       "      <td>i can have for a treat or if i am feeling festive</td>\n",
       "      <td>joy</td>\n",
       "      <td>treat feeling festive</td>\n",
       "      <td>2</td>\n",
       "      <td>3</td>\n",
       "    </tr>\n",
       "  </tbody>\n",
       "</table>\n",
       "</div>"
      ],
      "text/plain": [
       "                                                Text  Emotion  \\\n",
       "0  im feeling quite sad and sorry for myself but ...  sadness   \n",
       "1  i feel like i am still looking at a blank canv...  sadness   \n",
       "2                     i feel like a faithful servant     love   \n",
       "3                  i am just feeling cranky and blue    anger   \n",
       "4  i can have for a treat or if i am feeling festive      joy   \n",
       "\n",
       "                                          Clean_Text  Label_Emotion  Length  \n",
       "0           im feeling quite sad sorry ill snap soon              4       8  \n",
       "1  feel like still looking blank canvas blank pie...              4       9  \n",
       "2                         feel like faithful servant              3       4  \n",
       "3                                feeling cranky blue              0       3  \n",
       "4                              treat feeling festive              2       3  "
      ]
     },
     "execution_count": 13,
     "metadata": {},
     "output_type": "execute_result"
    }
   ],
   "source": [
    "val_data.head()"
   ]
  },
  {
   "cell_type": "code",
   "execution_count": 14,
   "id": "eebcf26c",
   "metadata": {},
   "outputs": [
    {
     "data": {
      "text/plain": [
       "count    2000.000000\n",
       "mean        9.202500\n",
       "std         5.112099\n",
       "min         2.000000\n",
       "25%         5.000000\n",
       "50%         8.000000\n",
       "75%        12.000000\n",
       "max        31.000000\n",
       "Name: Length, dtype: float64"
      ]
     },
     "execution_count": 14,
     "metadata": {},
     "output_type": "execute_result"
    }
   ],
   "source": [
    "val_data['Length'].describe()"
   ]
  },
  {
   "cell_type": "code",
   "execution_count": 15,
   "id": "8cceea72",
   "metadata": {},
   "outputs": [
    {
     "data": {
      "text/plain": [
       "<AxesSubplot:xlabel='Length', ylabel='Count'>"
      ]
     },
     "execution_count": 15,
     "metadata": {},
     "output_type": "execute_result"
    },
    {
     "data": {
      "image/png": "[encoded data removed]",
      "text/plain": [
       "<Figure size 432x288 with 1 Axes>"
      ]
     },
     "metadata": {
      "needs_background": "light"
     },
     "output_type": "display_data"
    }
   ],
   "source": [
    "sns.histplot(x=val_data['Length'], hue=val_data['Emotion'])"
   ]
  },
  {
   "cell_type": "code",
   "execution_count": 16,
   "id": "73031153",
   "metadata": {},
   "outputs": [],
   "source": [
    "# preprocess on test data\n",
    "test_data['Clean_Text'] = test_data['Text'].apply(preprocess)\n",
    "test_data['Label_Emotion'] = lb.fit_transform(test_data['Emotion'])\n",
    "test_data['Length'] = [len(x.split()) for x in test_data['Clean_Text']]"
   ]
  },
  {
   "cell_type": "code",
   "execution_count": 17,
   "id": "654355bf",
   "metadata": {},
   "outputs": [
    {
     "data": {
      "text/html": [
       "<div>\n",
       "<style scoped>\n",
       "    .dataframe tbody tr th:only-of-type {\n",
       "        vertical-align: middle;\n",
       "    }\n",
       "\n",
       "    .dataframe tbody tr th {\n",
       "        vertical-align: top;\n",
       "    }\n",
       "\n",
       "    .dataframe thead th {\n",
       "        text-align: right;\n",
       "    }\n",
       "</style>\n",
       "<table border=\"1\" class=\"dataframe\">\n",
       "  <thead>\n",
       "    <tr style=\"text-align: right;\">\n",
       "      <th></th>\n",
       "      <th>Text</th>\n",
       "      <th>Emotion</th>\n",
       "      <th>Clean_Text</th>\n",
       "      <th>Label_Emotion</th>\n",
       "      <th>Length</th>\n",
       "    </tr>\n",
       "  </thead>\n",
       "  <tbody>\n",
       "    <tr>\n",
       "      <th>0</th>\n",
       "      <td>im feeling rather rotten so im not very ambiti...</td>\n",
       "      <td>sadness</td>\n",
       "      <td>im feeling rather rotten im ambitious right</td>\n",
       "      <td>4</td>\n",
       "      <td>7</td>\n",
       "    </tr>\n",
       "    <tr>\n",
       "      <th>1</th>\n",
       "      <td>im updating my blog because i feel shitty</td>\n",
       "      <td>sadness</td>\n",
       "      <td>im updating blog feel shitty</td>\n",
       "      <td>4</td>\n",
       "      <td>5</td>\n",
       "    </tr>\n",
       "    <tr>\n",
       "      <th>2</th>\n",
       "      <td>i never make her separate from me because i do...</td>\n",
       "      <td>sadness</td>\n",
       "      <td>never make separate ever want feel like ashamed</td>\n",
       "      <td>4</td>\n",
       "      <td>8</td>\n",
       "    </tr>\n",
       "    <tr>\n",
       "      <th>3</th>\n",
       "      <td>i left with my bouquet of red and yellow tulip...</td>\n",
       "      <td>joy</td>\n",
       "      <td>left bouquet red yellow tulip arm feeling slig...</td>\n",
       "      <td>2</td>\n",
       "      <td>10</td>\n",
       "    </tr>\n",
       "    <tr>\n",
       "      <th>4</th>\n",
       "      <td>i was feeling a little vain when i did this one</td>\n",
       "      <td>sadness</td>\n",
       "      <td>feeling little vain one</td>\n",
       "      <td>4</td>\n",
       "      <td>4</td>\n",
       "    </tr>\n",
       "  </tbody>\n",
       "</table>\n",
       "</div>"
      ],
      "text/plain": [
       "                                                Text  Emotion  \\\n",
       "0  im feeling rather rotten so im not very ambiti...  sadness   \n",
       "1          im updating my blog because i feel shitty  sadness   \n",
       "2  i never make her separate from me because i do...  sadness   \n",
       "3  i left with my bouquet of red and yellow tulip...      joy   \n",
       "4    i was feeling a little vain when i did this one  sadness   \n",
       "\n",
       "                                          Clean_Text  Label_Emotion  Length  \n",
       "0        im feeling rather rotten im ambitious right              4       7  \n",
       "1                       im updating blog feel shitty              4       5  \n",
       "2    never make separate ever want feel like ashamed              4       8  \n",
       "3  left bouquet red yellow tulip arm feeling slig...              2      10  \n",
       "4                            feeling little vain one              4       4  "
      ]
     },
     "execution_count": 17,
     "metadata": {},
     "output_type": "execute_result"
    }
   ],
   "source": [
    "test_data.head()"
   ]
  },
  {
   "cell_type": "code",
   "execution_count": 18,
   "id": "63457a07",
   "metadata": {},
   "outputs": [
    {
     "data": {
      "text/plain": [
       "count    2000.000000\n",
       "mean        9.301500\n",
       "std         5.143036\n",
       "min         2.000000\n",
       "25%         5.000000\n",
       "50%         8.000000\n",
       "75%        12.000000\n",
       "max        31.000000\n",
       "Name: Length, dtype: float64"
      ]
     },
     "execution_count": 18,
     "metadata": {},
     "output_type": "execute_result"
    }
   ],
   "source": [
    "test_data['Length'].describe()"
   ]
  },
  {
   "cell_type": "code",
   "execution_count": 19,
   "id": "72863c4c",
   "metadata": {},
   "outputs": [
    {
     "data": {
      "text/plain": [
       "<AxesSubplot:xlabel='Length', ylabel='Count'>"
      ]
     },
     "execution_count": 19,
     "metadata": {},
     "output_type": "execute_result"
    },
    {
     "data": {
      "image/png": "[encoded data removed]",
      "text/plain": [
       "<Figure size 432x288 with 1 Axes>"
      ]
     },
     "metadata": {
      "needs_background": "light"
     },
     "output_type": "display_data"
    }
   ],
   "source": [
    "sns.histplot(x=test_data['Length'], hue=test_data['Emotion'])"
   ]
  },
  {
   "cell_type": "code",
   "execution_count": 20,
   "id": "cdd54c83",
   "metadata": {},
   "outputs": [
    {
     "name": "stdout",
     "output_type": "stream",
     "text": [
      "20000\n"
     ]
    }
   ],
   "source": [
    "# create a list to store all sentences from the 3 datasets\n",
    "all_sent = []\n",
    "all_sent.extend(train_data['Clean_Text'].values)\n",
    "all_sent.extend(test_data['Clean_Text'].values)\n",
    "all_sent.extend(val_data['Clean_Text'].values)\n",
    "print(len(all_sent))"
   ]
  },
  {
   "cell_type": "code",
   "execution_count": 21,
   "id": "d166054d",
   "metadata": {},
   "outputs": [],
   "source": [
    "# use the tokenizer to fit on the sentences\n",
    "tokenizer = Tokenizer()\n",
    "tokenizer.fit_on_texts(all_sent)"
   ]
  },
  {
   "cell_type": "code",
   "execution_count": 22,
   "id": "4c1df29c",
   "metadata": {},
   "outputs": [
    {
     "name": "stdout",
     "output_type": "stream",
     "text": [
      "15104\n"
     ]
    }
   ],
   "source": [
    "# check the vocabulary size\n",
    "print(len(tokenizer.word_index))"
   ]
  },
  {
   "cell_type": "code",
   "execution_count": 24,
   "id": "ab17a25d",
   "metadata": {},
   "outputs": [],
   "source": [
    "# save the tokenizer and the laber encoder fitted on the dataset\n",
    "with open('assets/tokenizer.pickle', 'wb') as f: \n",
    "    pickle.dump(tokenizer, f)\n",
    "with open('assets/label_encoder.pickle','wb') as file:\n",
    "    pickle.dump(lb,file)"
   ]
  },
  {
   "cell_type": "code",
   "execution_count": 25,
   "id": "1952bb2e",
   "metadata": {},
   "outputs": [],
   "source": [
    "x_train = train_data['Clean_Text']\n",
    "y_train = train_data['Label_Emotion']"
   ]
  },
  {
   "cell_type": "code",
   "execution_count": 26,
   "id": "840fac1a",
   "metadata": {},
   "outputs": [],
   "source": [
    "# convert the train texts to sequences\n",
    "x_train = tokenizer.texts_to_sequences(x_train)\n",
    "x_train_pad = pad_sequences(x_train,maxlen=35)"
   ]
  },
  {
   "cell_type": "code",
   "execution_count": 27,
   "id": "e480b7cd",
   "metadata": {},
   "outputs": [
    {
     "data": {
      "text/plain": [
       "array([[   0,    0,    0, ...,   54,    1,  519],\n",
       "       [   0,    0,    0, ...,   52,  179, 1266],\n",
       "       [   0,    0,    0, ...,    1,  389,  310],\n",
       "       ...,\n",
       "       [   0,    0,    0, ...,  240,   33, 1232],\n",
       "       [   0,    0,    0, ...,  377,    4,  253],\n",
       "       [   0,    0,    0, ...,    1,  201, 3730]], dtype=int32)"
      ]
     },
     "execution_count": 27,
     "metadata": {},
     "output_type": "execute_result"
    }
   ],
   "source": [
    "x_train_pad"
   ]
  },
  {
   "cell_type": "code",
   "execution_count": 28,
   "id": "33e7b654",
   "metadata": {},
   "outputs": [],
   "source": [
    "y_train = to_categorical(y_train)"
   ]
  },
  {
   "cell_type": "code",
   "execution_count": 29,
   "id": "6bb0f833",
   "metadata": {},
   "outputs": [
    {
     "data": {
      "text/plain": [
       "array([[0., 0., 0., 0., 1., 0.],\n",
       "       [0., 0., 0., 0., 1., 0.],\n",
       "       [1., 0., 0., 0., 0., 0.],\n",
       "       ...,\n",
       "       [0., 0., 1., 0., 0., 0.],\n",
       "       [1., 0., 0., 0., 0., 0.],\n",
       "       [0., 0., 0., 0., 1., 0.]], dtype=float32)"
      ]
     },
     "execution_count": 29,
     "metadata": {},
     "output_type": "execute_result"
    }
   ],
   "source": [
    "y_train"
   ]
  },
  {
   "cell_type": "code",
   "execution_count": 30,
   "id": "5df528c5",
   "metadata": {},
   "outputs": [
    {
     "name": "stdout",
     "output_type": "stream",
     "text": [
      "(16000, 35) (16000, 6)\n"
     ]
    }
   ],
   "source": [
    "print(x_train_pad.shape, y_train.shape)"
   ]
  },
  {
   "cell_type": "code",
   "execution_count": 31,
   "id": "69d433c7",
   "metadata": {},
   "outputs": [],
   "source": [
    "x_val = val_data['Clean_Text']\n",
    "y_val = val_data['Label_Emotion']"
   ]
  },
  {
   "cell_type": "code",
   "execution_count": 32,
   "id": "52c9fc58",
   "metadata": {},
   "outputs": [],
   "source": [
    "# convert the train texts to sequences\n",
    "x_val = tokenizer.texts_to_sequences(x_val)\n",
    "x_val_pad = pad_sequences(x_val,maxlen=35)"
   ]
  },
  {
   "cell_type": "code",
   "execution_count": 33,
   "id": "ffe678bb",
   "metadata": {},
   "outputs": [
    {
     "data": {
      "text/plain": [
       "array([[    0,     0,     0, ...,   116,  2844,   416],\n",
       "       [    0,     0,     0, ...,   489,   569,   893],\n",
       "       [    0,     0,     0, ...,     3,   485, 14354],\n",
       "       ...,\n",
       "       [    0,     0,     0, ...,  2732,   235,    14],\n",
       "       [    0,     0,     0, ...,   397,   602,  2007],\n",
       "       [    0,     0,     0, ...,  1207,    21,    15]], dtype=int32)"
      ]
     },
     "execution_count": 33,
     "metadata": {},
     "output_type": "execute_result"
    }
   ],
   "source": [
    "x_val_pad"
   ]
  },
  {
   "cell_type": "code",
   "execution_count": 34,
   "id": "cc4c8689",
   "metadata": {},
   "outputs": [],
   "source": [
    "y_val = to_categorical(y_val)"
   ]
  },
  {
   "cell_type": "code",
   "execution_count": 35,
   "id": "11780680",
   "metadata": {},
   "outputs": [
    {
     "data": {
      "text/plain": [
       "array([[0., 0., 0., 0., 1., 0.],\n",
       "       [0., 0., 0., 0., 1., 0.],\n",
       "       [0., 0., 0., 1., 0., 0.],\n",
       "       ...,\n",
       "       [0., 0., 1., 0., 0., 0.],\n",
       "       [0., 0., 1., 0., 0., 0.],\n",
       "       [0., 0., 1., 0., 0., 0.]], dtype=float32)"
      ]
     },
     "execution_count": 35,
     "metadata": {},
     "output_type": "execute_result"
    }
   ],
   "source": [
    "y_val"
   ]
  },
  {
   "cell_type": "code",
   "execution_count": 36,
   "id": "da2c525a",
   "metadata": {},
   "outputs": [
    {
     "name": "stdout",
     "output_type": "stream",
     "text": [
      "(2000, 35) (2000, 6)\n"
     ]
    }
   ],
   "source": [
    "print(x_val_pad.shape, y_val.shape)"
   ]
  },
  {
   "cell_type": "code",
   "execution_count": 37,
   "id": "299a9f74",
   "metadata": {},
   "outputs": [],
   "source": [
    "x_test = test_data['Clean_Text']\n",
    "y_test = test_data['Label_Emotion']"
   ]
  },
  {
   "cell_type": "code",
   "execution_count": 38,
   "id": "9abf74ba",
   "metadata": {},
   "outputs": [],
   "source": [
    "# convert the train texts to sequences\n",
    "x_test = tokenizer.texts_to_sequences(x_test)\n",
    "x_test_pad = pad_sequences(x_test,maxlen=35)"
   ]
  },
  {
   "cell_type": "code",
   "execution_count": 39,
   "id": "eccdfedc",
   "metadata": {},
   "outputs": [
    {
     "data": {
      "text/plain": [
       "array([[   0,    0,    0, ...,    4, 4543,   37],\n",
       "       [   0,    0,    0, ...,  115,    1,  352],\n",
       "       [   0,    0,    0, ...,    1,    3,  293],\n",
       "       ...,\n",
       "       [   0,    0,    0, ...,  193,    2, 2640],\n",
       "       [   0,    0,    0, ...,  101,  699, 2149],\n",
       "       [   0,    0,    0, ...,  180,  180, 1724]], dtype=int32)"
      ]
     },
     "execution_count": 39,
     "metadata": {},
     "output_type": "execute_result"
    }
   ],
   "source": [
    "x_test_pad"
   ]
  },
  {
   "cell_type": "code",
   "execution_count": 40,
   "id": "1ea489be",
   "metadata": {},
   "outputs": [],
   "source": [
    "y_test = to_categorical(y_test)"
   ]
  },
  {
   "cell_type": "code",
   "execution_count": 41,
   "id": "a2bac8bb",
   "metadata": {},
   "outputs": [
    {
     "data": {
      "text/plain": [
       "array([[0., 0., 0., 0., 1., 0.],\n",
       "       [0., 0., 0., 0., 1., 0.],\n",
       "       [0., 0., 0., 0., 1., 0.],\n",
       "       ...,\n",
       "       [0., 0., 1., 0., 0., 0.],\n",
       "       [0., 0., 1., 0., 0., 0.],\n",
       "       [0., 1., 0., 0., 0., 0.]], dtype=float32)"
      ]
     },
     "execution_count": 41,
     "metadata": {},
     "output_type": "execute_result"
    }
   ],
   "source": [
    "y_test"
   ]
  },
  {
   "cell_type": "code",
   "execution_count": 42,
   "id": "d71b31db",
   "metadata": {},
   "outputs": [
    {
     "name": "stdout",
     "output_type": "stream",
     "text": [
      "(2000, 35) (2000, 6)\n"
     ]
    }
   ],
   "source": [
    "print(x_test_pad.shape, y_test.shape)"
   ]
  },
  {
   "cell_type": "markdown",
   "id": "86b17989",
   "metadata": {},
   "source": [
    "Training"
   ]
  },
  {
   "cell_type": "code",
   "execution_count": 43,
   "id": "9203996e",
   "metadata": {},
   "outputs": [],
   "source": [
    "from keras.models import Sequential\n",
    "from keras.layers import LSTM,Dense,Embedding,Dropout"
   ]
  },
  {
   "cell_type": "code",
   "execution_count": 44,
   "id": "ea2dc9dd",
   "metadata": {},
   "outputs": [
    {
     "name": "stderr",
     "output_type": "stream",
     "text": [
      "2022-07-27 20:45:38.871271: I tensorflow/core/platform/cpu_feature_guard.cc:142] This TensorFlow binary is optimized with oneAPI Deep Neural Network Library (oneDNN) to use the following CPU instructions in performance-critical operations:  AVX2 AVX512F FMA\n",
      "To enable them in other operations, rebuild TensorFlow with the appropriate compiler flags.\n"
     ]
    }
   ],
   "source": [
    "model = Sequential()\n",
    "model.add(Embedding(input_dim=15105,output_dim=128,input_length=35))\n",
    "model.add(LSTM(128))\n",
    "model.add(Dense(64,activation='relu'))\n",
    "model.add(Dropout(0.5))\n",
    "model.add(Dense(6,activation='softmax'))"
   ]
  },
  {
   "cell_type": "code",
   "execution_count": 45,
   "id": "3c2d88ce",
   "metadata": {},
   "outputs": [
    {
     "name": "stdout",
     "output_type": "stream",
     "text": [
      "Model: \"sequential\"\n",
      "_________________________________________________________________\n",
      "Layer (type)                 Output Shape              Param #   \n",
      "=================================================================\n",
      "embedding (Embedding)        (None, 35, 128)           1933440   \n",
      "_________________________________________________________________\n",
      "lstm (LSTM)                  (None, 128)               131584    \n",
      "_________________________________________________________________\n",
      "dense (Dense)                (None, 64)                8256      \n",
      "_________________________________________________________________\n",
      "dropout (Dropout)            (None, 64)                0         \n",
      "_________________________________________________________________\n",
      "dense_1 (Dense)              (None, 6)                 390       \n",
      "=================================================================\n",
      "Total params: 2,073,670\n",
      "Trainable params: 2,073,670\n",
      "Non-trainable params: 0\n",
      "_________________________________________________________________\n"
     ]
    }
   ],
   "source": [
    "model.compile(optimizer='adam',loss='categorical_crossentropy',metrics=['accuracy'])\n",
    "model.summary()"
   ]
  },
  {
   "cell_type": "code",
   "execution_count": 46,
   "id": "a96f427c",
   "metadata": {},
   "outputs": [
    {
     "name": "stderr",
     "output_type": "stream",
     "text": [
      "2022-07-27 20:45:45.726836: I tensorflow/compiler/mlir/mlir_graph_optimization_pass.cc:185] None of the MLIR Optimization Passes are enabled (registered 2)\n"
     ]
    },
    {
     "name": "stdout",
     "output_type": "stream",
     "text": [
      "Epoch 1/20\n",
      "32/32 [==============================] - 12s 287ms/step - loss: 1.6457 - accuracy: 0.3216 - val_loss: 1.5588 - val_accuracy: 0.4540\n",
      "Epoch 2/20\n",
      "32/32 [==============================] - 8s 263ms/step - loss: 1.4480 - accuracy: 0.4577 - val_loss: 1.1629 - val_accuracy: 0.5845\n",
      "Epoch 3/20\n",
      "32/32 [==============================] - 9s 272ms/step - loss: 0.8684 - accuracy: 0.6843 - val_loss: 0.7697 - val_accuracy: 0.7670\n",
      "Epoch 4/20\n",
      "32/32 [==============================] - 9s 274ms/step - loss: 0.4951 - accuracy: 0.8397 - val_loss: 0.6091 - val_accuracy: 0.8165\n",
      "Epoch 5/20\n",
      "32/32 [==============================] - 8s 264ms/step - loss: 0.2703 - accuracy: 0.9142 - val_loss: 0.4882 - val_accuracy: 0.8590\n",
      "Epoch 6/20\n",
      "32/32 [==============================] - 8s 262ms/step - loss: 0.1616 - accuracy: 0.9514 - val_loss: 0.4758 - val_accuracy: 0.8610\n",
      "Epoch 7/20\n",
      "32/32 [==============================] - 9s 273ms/step - loss: 0.1183 - accuracy: 0.9657 - val_loss: 0.5231 - val_accuracy: 0.8710\n",
      "Epoch 8/20\n",
      "32/32 [==============================] - 9s 274ms/step - loss: 0.0911 - accuracy: 0.9744 - val_loss: 0.5163 - val_accuracy: 0.8635\n",
      "Epoch 9/20\n",
      "32/32 [==============================] - 9s 275ms/step - loss: 0.0783 - accuracy: 0.9790 - val_loss: 0.5810 - val_accuracy: 0.8680\n",
      "Epoch 10/20\n",
      "32/32 [==============================] - 9s 279ms/step - loss: 0.0667 - accuracy: 0.9818 - val_loss: 0.6356 - val_accuracy: 0.8695\n",
      "Epoch 11/20\n",
      "32/32 [==============================] - 9s 277ms/step - loss: 0.0553 - accuracy: 0.9836 - val_loss: 0.6397 - val_accuracy: 0.8645\n",
      "Epoch 12/20\n",
      "32/32 [==============================] - 9s 271ms/step - loss: 0.0578 - accuracy: 0.9849 - val_loss: 0.6229 - val_accuracy: 0.8715\n",
      "Epoch 13/20\n",
      "32/32 [==============================] - 8s 260ms/step - loss: 0.0510 - accuracy: 0.9871 - val_loss: 0.6228 - val_accuracy: 0.8735\n",
      "Epoch 14/20\n",
      "32/32 [==============================] - 9s 276ms/step - loss: 0.0419 - accuracy: 0.9875 - val_loss: 0.6673 - val_accuracy: 0.8720\n",
      "Epoch 15/20\n",
      "32/32 [==============================] - 9s 273ms/step - loss: 0.0433 - accuracy: 0.9876 - val_loss: 0.7128 - val_accuracy: 0.8745\n",
      "Epoch 16/20\n",
      "32/32 [==============================] - 9s 283ms/step - loss: 0.0414 - accuracy: 0.9884 - val_loss: 0.6663 - val_accuracy: 0.8780\n",
      "Epoch 17/20\n",
      "32/32 [==============================] - 8s 249ms/step - loss: 0.0386 - accuracy: 0.9899 - val_loss: 0.6536 - val_accuracy: 0.8750\n",
      "Epoch 18/20\n",
      "32/32 [==============================] - 8s 255ms/step - loss: 0.0335 - accuracy: 0.9902 - val_loss: 0.6905 - val_accuracy: 0.8760\n",
      "Epoch 19/20\n",
      "32/32 [==============================] - 8s 256ms/step - loss: 0.0329 - accuracy: 0.9905 - val_loss: 0.6457 - val_accuracy: 0.8770\n",
      "Epoch 20/20\n",
      "32/32 [==============================] - 8s 260ms/step - loss: 0.0313 - accuracy: 0.9913 - val_loss: 0.7746 - val_accuracy: 0.8760\n"
     ]
    }
   ],
   "source": [
    "hist=model.fit(x_train_pad,y_train,epochs=20,batch_size = 512,validation_data=(x_val_pad,y_val))"
   ]
  },
  {
   "cell_type": "code",
   "execution_count": 55,
   "id": "287001ab",
   "metadata": {},
   "outputs": [],
   "source": [
    "model.save('models/model.h5', hist)"
   ]
  },
  {
   "cell_type": "code",
   "execution_count": 47,
   "id": "8c5ab658",
   "metadata": {},
   "outputs": [],
   "source": [
    "from sklearn.metrics import classification_report"
   ]
  },
  {
   "cell_type": "code",
   "execution_count": 48,
   "id": "66c73e89",
   "metadata": {},
   "outputs": [
    {
     "data": {
      "image/png": "[encoded data removed]",
      "text/plain": [
       "<Figure size 432x288 with 1 Axes>"
      ]
     },
     "metadata": {
      "needs_background": "light"
     },
     "output_type": "display_data"
    }
   ],
   "source": [
    "plt.plot(hist.history['accuracy'],c='b',label='train')\n",
    "plt.plot(hist.history['val_accuracy'],c='r',label='validation')\n",
    "plt.title('Training and validation accuracy')\n",
    "plt.legend(loc='lower right')\n",
    "plt.show()"
   ]
  },
  {
   "cell_type": "code",
   "execution_count": 49,
   "id": "a3cd9e19",
   "metadata": {},
   "outputs": [
    {
     "data": {
      "image/png": "[encoded data removed]",
      "text/plain": [
       "<Figure size 432x288 with 1 Axes>"
      ]
     },
     "metadata": {
      "needs_background": "light"
     },
     "output_type": "display_data"
    }
   ],
   "source": [
    "plt.plot(hist.history['loss'],c='orange',label='train')\n",
    "plt.plot(hist.history['val_loss'],c='g',label='validation')\n",
    "plt.title('Training and validation loss')\n",
    "plt.legend(loc='upper right')\n",
    "plt.show()"
   ]
  },
  {
   "cell_type": "code",
   "execution_count": 50,
   "id": "af8f035d",
   "metadata": {},
   "outputs": [
    {
     "name": "stdout",
     "output_type": "stream",
     "text": [
      "63/63 [==============================] - 1s 13ms/step - loss: 0.7413 - accuracy: 0.8650\n"
     ]
    },
    {
     "data": {
      "text/plain": [
       "[0.741263747215271, 0.8650000095367432]"
      ]
     },
     "execution_count": 50,
     "metadata": {},
     "output_type": "execute_result"
    }
   ],
   "source": [
    "model.evaluate(x_test_pad,y_test)"
   ]
  },
  {
   "cell_type": "code",
   "execution_count": 51,
   "id": "fd7c8308",
   "metadata": {},
   "outputs": [],
   "source": [
    "y_test_true = test_data['Label_Emotion'].values\n",
    "y_test_pred = np.argmax(model.predict(x_test_pad), axis=1)"
   ]
  },
  {
   "cell_type": "code",
   "execution_count": 52,
   "id": "05a5ef2d",
   "metadata": {},
   "outputs": [
    {
     "data": {
      "text/plain": [
       "array([4, 4, 4, ..., 2, 2, 1])"
      ]
     },
     "execution_count": 52,
     "metadata": {},
     "output_type": "execute_result"
    }
   ],
   "source": [
    "y_test_true"
   ]
  },
  {
   "cell_type": "code",
   "execution_count": 53,
   "id": "28b4a25e",
   "metadata": {},
   "outputs": [
    {
     "data": {
      "text/plain": [
       "array([4, 4, 4, ..., 2, 2, 1])"
      ]
     },
     "execution_count": 53,
     "metadata": {},
     "output_type": "execute_result"
    }
   ],
   "source": [
    "y_test_pred"
   ]
  },
  {
   "cell_type": "code",
   "execution_count": 54,
   "id": "d403ea23",
   "metadata": {},
   "outputs": [
    {
     "name": "stdout",
     "output_type": "stream",
     "text": [
      "              precision    recall  f1-score   support\n",
      "\n",
      "           0       0.88      0.83      0.85       275\n",
      "           1       0.83      0.82      0.83       224\n",
      "           2       0.87      0.92      0.90       695\n",
      "           3       0.71      0.72      0.72       159\n",
      "           4       0.93      0.90      0.91       581\n",
      "           5       0.65      0.67      0.66        66\n",
      "\n",
      "    accuracy                           0.86      2000\n",
      "   macro avg       0.81      0.81      0.81      2000\n",
      "weighted avg       0.87      0.86      0.87      2000\n",
      "\n"
     ]
    }
   ],
   "source": [
    "from sklearn import metrics\n",
    "print(metrics.classification_report(y_test_true, y_test_pred))"
   ]
  },
  {
   "cell_type": "code",
   "execution_count": null,
   "id": "9c406bf6",
   "metadata": {},
   "outputs": [],
   "source": []
  }
 ],
 "metadata": {
  "kernelspec": {
   "display_name": "Python 3 (ipykernel)",
   "language": "python",
   "name": "python3"
  },
  "language_info": {
   "codemirror_mode": {
    "name": "ipython",
    "version": 3
   },
   "file_extension": ".py",
   "mimetype": "text/x-python",
   "name": "python",
   "nbconvert_exporter": "python",
   "pygments_lexer": "ipython3",
   "version": "3.8.11"
  }
 },
 "nbformat": 4,
 "nbformat_minor": 5
}
